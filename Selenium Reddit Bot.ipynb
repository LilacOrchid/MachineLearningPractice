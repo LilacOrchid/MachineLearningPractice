{
 "cells": [
  {
   "cell_type": "markdown",
   "id": "2f0ef3a4",
   "metadata": {},
   "source": [
    "### Reddit Bot"
   ]
  },
  {
   "cell_type": "code",
   "execution_count": 1,
   "id": "a179f64f",
   "metadata": {},
   "outputs": [],
   "source": [
    "import selenium\n",
    "from selenium import webdriver\n",
    "from selenium.webdriver.chrome.service import Service  # Import Service\n",
    "from selenium.webdriver.common.by import By\n",
    "from selenium.webdriver.common.keys import Keys\n",
    "from selenium.common.exceptions import NoSuchElementException\n",
    "from time import sleep\n",
    "import getpass\n",
    "import numpy as np"
   ]
  },
  {
   "cell_type": "code",
   "execution_count": 4,
   "id": "579ca901",
   "metadata": {},
   "outputs": [],
   "source": [
    "my_user = 'learner_bo81279'\n",
    "my_pass = 'm^_TkT\"z2MFp6X]'\n",
    "my_email = 'learnerbot86@gmail.com'\n",
    "search_item = 'Manga News'\n",
    "subreddit = 'https://reddit.com/r/wallstreetbets/'"
   ]
  },
  {
   "cell_type": "code",
   "execution_count": 5,
   "id": "c9315941",
   "metadata": {},
   "outputs": [],
   "source": [
    "# Define the path to the Chromedriver\n",
    "s = Service(r'C:\\Program Files\\drivers\\chromedriver.exe')\n",
    "\n",
    "# Initialize the Chrome WebDriver correctly using Service\n",
    "driver = webdriver.Chrome(service=s)\n",
    "# Open a web page\n",
    "driver.get(subreddit)\n",
    "sleep(3)"
   ]
  },
  {
   "cell_type": "code",
   "execution_count": null,
   "id": "610b3c27",
   "metadata": {},
   "outputs": [],
   "source": [
    "title = driver.find_element(By.XPATH,''"
   ]
  },
  {
   "cell_type": "code",
   "execution_count": null,
   "id": "6a7d99da",
   "metadata": {},
   "outputs": [],
   "source": []
  }
 ],
 "metadata": {
  "kernelspec": {
   "display_name": "Python 3 (ipykernel)",
   "language": "python",
   "name": "python3"
  },
  "language_info": {
   "codemirror_mode": {
    "name": "ipython",
    "version": 3
   },
   "file_extension": ".py",
   "mimetype": "text/x-python",
   "name": "python",
   "nbconvert_exporter": "python",
   "pygments_lexer": "ipython3",
   "version": "3.9.13"
  }
 },
 "nbformat": 4,
 "nbformat_minor": 5
}
