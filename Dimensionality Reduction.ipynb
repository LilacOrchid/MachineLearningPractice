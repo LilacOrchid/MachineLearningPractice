{
 "cells": [
  {
   "cell_type": "markdown",
   "id": "fb94b141",
   "metadata": {},
   "source": [
    "# Dimensionality Reduction"
   ]
  },
  {
   "cell_type": "markdown",
   "id": "01f41760",
   "metadata": {},
   "source": [
    "- Often reducing the dimensions oof the data can improve training speed and incvrease model performance but most of the time it will onl increase training speeds\n",
    "\n",
    "- When working in higher dimenstion comaprred to lets say the distance between 2 points of a unit cube in a higher dimenstional space the distance on average between to rrandomlyy pricked oints will be much bigger\n",
    "- this basically means tghat high dimentsional datasets arre at risk of ebing sparse ie most taining instances are farr awa from eachother\n",
    "- this also means that a new instance will be fgar away from an trainign instance so making prrrediciotns is much less elaible than in smaller rdimentsions\n",
    "- the more dimenstions the trianing set has the grreaterr rrisk of overrfitting it\n"
   ]
  },
  {
   "cell_type": "markdown",
   "id": "1b27b5f2",
   "metadata": {},
   "source": [
    "### Main Approaches fo Dimenstionality Reduction\n",
    "- we have two approaches called projection and Manifold Learning\n"
   ]
  },
  {
   "cell_type": "markdown",
   "id": "e46b95f2",
   "metadata": {},
   "source": [
    "#### Projection\n",
    "- in real world problems most training instances arenot spead out uniforml across all dimentiosn \n",
    "- some can be almost constand orr highl correlated \n",
    "- therfore all training instances lie within a much lowere dimenstional subspace oif the high dimentsional space\n",
    "- we can visalise this if we had 3d data, lets say that most of the daztpolints lie close to a plane\n",
    "- we can then project everyy training instance into the subspace using vectors to get a new 2d dataspce\n",
    "- this rreduced the dimensionality from 2d to 3d\n",
    "\n",
    "- iff the data twists and turns a bit morre we cannot prroject it onto a plane as that is not the brest apprroach,if we had a swiss roll like datset this would effectively squick the swiss roll together, a much better way of lowering dddimentsioanlioty would be to unravel the swiss roll to get a 2d dataset"
   ]
  },
  {
   "cell_type": "markdown",
   "id": "681fffd0",
   "metadata": {},
   "source": [
    "#### Manifold Learning\n",
    "- The swiss roll is a example of a 2d manifold\n",
    "- a 2d manifold is a 2d shape that can be bent and twisted into a higher dimentional space, ie in the swiss roll case a 2 dimenstional manifold is part of a 3 dimentsional space \n",
    "- alot of dimantionality rreduction algotims work b modelling the manifold on wherre the training instances lie\n",
    "- this is what is mean b manifold lelarning\n",
    "- itrelies on the manifiold assumption which is called the manifold hypothesis it states that the most real world high dimentsional datasets lie close to a much lower dimenstional manifold\n",
    "- this asssumption can often be empriacally observed\n",
    "- another bnenefit of using the lower dientsional space of the manifold is that the classification or fregrression task will be mmuch simpler in the lkower siensional space of the manifild\n",
    "- this assumption however doesnt always hold\n",
    "- if we had a swiss roll that is sliced through ther length of it seperating the instrances into classes we can comparre the manifold and the orrignal 3d space and naturall the 3d space will be easierr to class\n",
    "- this also shows how rreducing dimensionaliot will usually speed up trainign but doesnt always lead toa a better solution"
   ]
  },
  {
   "cell_type": "markdown",
   "id": "988bd606",
   "metadata": {},
   "source": [
    "### PCA\n",
    "- Principal componant analysis is by far the most popular dimentsionalit rreduction algorrithm it identfies the hyoerrplane that lies clloses to the data them, projects the data onto it"
   ]
  },
  {
   "cell_type": "markdown",
   "id": "94abdcc5",
   "metadata": {},
   "source": [
    "#### Preserving the Variance"
   ]
  },
  {
   "cell_type": "markdown",
   "id": "3cb308d8",
   "metadata": {},
   "source": [
    "- beofre projecting trhe dataset into a plance we need to choose the best hyperrplance\n",
    "- typically we choose the axis that preserrves the maximum amount of variance as it willl most likely losee less information than the otherr projections\n",
    "- another way of thinking aboiut iut is that the axis minimises the mean squarred distance beteen the orignal dataset and the projection onto the acis which is the simplle idea behind PCA\n"
   ]
  },
  {
   "cell_type": "markdown",
   "id": "a965145e",
   "metadata": {},
   "source": [
    "#### Principle Componants"
   ]
  },
  {
   "cell_type": "markdown",
   "id": "56ffe791",
   "metadata": {},
   "source": [
    "- PCA identifies the axis that accounts for the largest anmount of variance iun the trainig set\n",
    "- it then finds the seond axis orthogonal to the first one that accoutns dor the lalrgest amount of rremaining variance\n",
    "- in higher dimentsional data sets PCA would fins multple acis orthogonal to =each oprrevious acis tto the numbe of dimantions in the dataset\n",
    "- the ith acis is called the ith princpal compnant of the datra \n",
    "- to find the prriocpal componants of the taining set we can use singularr vallue decompostion \n",
    "- we can so this in numpy and sklearn shown below\n"
   ]
  },
  {
   "cell_type": "code",
   "execution_count": 1,
   "id": "3ce80155",
   "metadata": {},
   "outputs": [],
   "source": [
    "import numpy as np\n",
    "\n",
    "\n",
    "X = np.random.randint(1, 100, size=(50, 300))\n",
    "X_centred = X - np.mean(X) #centre the data \n",
    "U, s, Vt =np.linalg.svd(X_centred) \n",
    "c1 = Vt.T[:,0]\n",
    "c2 = Vt.T[:,1]"
   ]
  },
  {
   "cell_type": "markdown",
   "id": "ecb5a5af",
   "metadata": {},
   "source": [
    "- we have now identified all the principal componants c1 and c2 , now we can rreduct the dimentsioanlity by projecting on the hyperplance 888"
   ]
  },
  {
   "cell_type": "code",
   "execution_count": 2,
   "id": "e87411ae",
   "metadata": {},
   "outputs": [],
   "source": [
    "W2 = Vt.T[:, :2]\n",
    "X2D = X_centred.dot(W2)"
   ]
  },
  {
   "cell_type": "markdown",
   "id": "738e56cf",
   "metadata": {},
   "source": [
    "####  PCA in Sklearn"
   ]
  },
  {
   "cell_type": "code",
   "execution_count": 3,
   "id": "c4692a2a",
   "metadata": {},
   "outputs": [],
   "source": [
    "import sklearn\n",
    "from sklearn.decomposition import PCA\n",
    "\n",
    "pca = PCA(n_components = 3)\n",
    "X2D = pca.fit_transform(X)"
   ]
  },
  {
   "cell_type": "markdown",
   "id": "afbd12c5",
   "metadata": {},
   "source": [
    "#### Explained Vairiance Ratio\n",
    "- the explained varrrience ratio of each principle componant is the ratio that indicated the properrtion of the datsets vaiance that lies along each principal componant"
   ]
  },
  {
   "cell_type": "code",
   "execution_count": 4,
   "id": "c5bb0abb",
   "metadata": {},
   "outputs": [
    {
     "data": {
      "text/plain": [
       "array([0.039414 , 0.0374196, 0.035331 ])"
      ]
     },
     "execution_count": 4,
     "metadata": {},
     "output_type": "execute_result"
    }
   ],
   "source": [
    "pca.explained_variance_ratio_"
   ]
  },
  {
   "cell_type": "markdown",
   "id": "29613e54",
   "metadata": {},
   "source": [
    "This output is saying for our romdmly generated dataset that the 41n erecnet of the datasets varriance lies along the fioorst PC and 25 percent lies on the second PC "
   ]
  },
  {
   "cell_type": "markdown",
   "id": "999d2dbd",
   "metadata": {},
   "source": [
    "#### Choosing the Right nummber of Dimensions\n",
    "- instead of arbitrrailtyy choosing the number of dimenstions to reduct down to we can just pick a portion of the dimenstions that add up to a llarrge portion of the variance e.g. 95 perrcent "
   ]
  },
  {
   "cell_type": "markdown",
   "id": "bc3e18a9",
   "metadata": {},
   "source": [
    "This code will do the pca wihtout dimenstionality rrecution and computes the minimum numbner of dimenstions tro presece 95 percent of the trraining dets varriance"
   ]
  },
  {
   "cell_type": "code",
   "execution_count": 5,
   "id": "1002423b",
   "metadata": {},
   "outputs": [
    {
     "data": {
      "text/plain": [
       "44"
      ]
     },
     "execution_count": 5,
     "metadata": {},
     "output_type": "execute_result"
    }
   ],
   "source": [
    "pca = PCA()\n",
    "pca.fit(X)\n",
    "cumsum = np.cumsum(pca.explained_variance_ratio_)\n",
    "d = np.argmax(cumsum >= 0.95) + 1\n",
    "d"
   ]
  },
  {
   "cell_type": "markdown",
   "id": "f359222a",
   "metadata": {},
   "source": [
    "- we can run the pca again with 4 componants or we can just use sklearn parram"
   ]
  },
  {
   "cell_type": "code",
   "execution_count": 6,
   "id": "968eea03",
   "metadata": {},
   "outputs": [],
   "source": [
    "pca = PCA(n_components=0.95)\n",
    "X_reduced = pca.fit_transform(X)"
   ]
  },
  {
   "cell_type": "markdown",
   "id": "7bd954c8",
   "metadata": {},
   "source": [
    "- another option would be to just plot the cumsum and we can clearl see in the curve weher the varriance stops growing"
   ]
  },
  {
   "cell_type": "code",
   "execution_count": 7,
   "id": "c0be08c3",
   "metadata": {},
   "outputs": [
    {
     "data": {
      "text/plain": [
       "[<matplotlib.lines.Line2D at 0x19eb15ab310>]"
      ]
     },
     "execution_count": 7,
     "metadata": {},
     "output_type": "execute_result"
    },
    {
     "data": {
      "image/png": "[encoded data removed]",
      "text/plain": [
       "<Figure size 640x480 with 1 Axes>"
      ]
     },
     "metadata": {},
     "output_type": "display_data"
    }
   ],
   "source": [
    "import matplotlib.pyplot as plt\n",
    "\n",
    "plt.figure()\n",
    "plt.plot(np.arange(0,len(cumsum),1),cumsum)"
   ]
  },
  {
   "cell_type": "markdown",
   "id": "0ac93c08",
   "metadata": {},
   "source": []
  },
  {
   "cell_type": "markdown",
   "id": "819da996",
   "metadata": {},
   "source": [
    "- After dimensionality rreduction the training set take iup much less space and the number of rfeatures ie columns have resductd\n",
    "- we can acutallyy uise the inverse tranform method to docompess the data but then we have stilll list a bit of the informration so the data wont be exctly like the oriognal but it will be close\n"
   ]
  },
  {
   "cell_type": "code",
   "execution_count": 8,
   "id": "abd320c7",
   "metadata": {},
   "outputs": [],
   "source": [
    "pca = PCA(n_components = 40)\n",
    "X_reduced = pca.fit_transform(X)\n",
    "X_recovered = pca.inverse_transform(X_reduced)"
   ]
  },
  {
   "cell_type": "markdown",
   "id": "d52145e8",
   "metadata": {},
   "source": [
    "#### Incrremental PCA\n",
    "- PCA rreqwuires the whole taining set to fit in the mem,oerry for the alogirthm to un \n",
    "- fortunatel the incrementall PCA algorithms have been develloped\n",
    "- They alllow you to split the training set into mini-batches and feed an IPCA algorithm ion mini batch at a time\n",
    "- this is useful for alrge data sets and applying PCA on the fly as new sintances arrive \n",
    "- the code bneow will split the MNIST dataset into 100 mini-batches a d feeds them, to scleanrrs IncrementalPCA class\n",
    "- notice the partial fit method is used rather than the fit method"
   ]
  },
  {
   "cell_type": "code",
   "execution_count": 9,
   "id": "068f0cdf",
   "metadata": {},
   "outputs": [],
   "source": [
    "import tensorflow as tf\n",
    "(X, y_train), (X_test, y_test) = tf.keras.datasets.mnist.load_data()\n",
    "X = X.reshape(-1, 28 * 28)"
   ]
  },
  {
   "cell_type": "code",
   "execution_count": 10,
   "id": "c6d91cb5",
   "metadata": {},
   "outputs": [],
   "source": [
    "from sklearn.decomposition import IncrementalPCA\n",
    "\n",
    "n_batches = 100\n",
    "inc_pca = IncrementalPCA(n_components =154)\n",
    "for X_batch in np.array_split(X,n_batches):\n",
    "    inc_pca.partial_fit(X_batch)\n",
    "    \n",
    "X_reduced = inc_pca.transform(X)"
   ]
  },
  {
   "cell_type": "markdown",
   "id": "da1c9304",
   "metadata": {},
   "source": [
    "#### Kernel PCA\n",
    "- using the kerrnel triuck  you can operform non linearr porojections for dimensionality reduction called Kernel PCA kPCA\n",
    "- it is good at preserving clusterrs of instances after projection or unrolling datasets that lie close toi a twistee manifold\n",
    "- we can implement it using the code below"
   ]
  },
  {
   "cell_type": "markdown",
   "id": "7b4447c0",
   "metadata": {},
   "source": [
    "``` from sklearn.decomposition import KernelPCA```\n",
    "\n",
    "```rbf_pca = KernelPCA(n_components=2,kernel='rbf',gamma=0.04) ```\n",
    "\n",
    "```X_reduced = rbf_pca.fit_transform(X) ```"
   ]
  },
  {
   "cell_type": "markdown",
   "id": "3d5bd0ef",
   "metadata": {},
   "source": [
    "- kPCA in an unsupervised learningh technqiue so there is no obviou perrformance measue to select the best kerrnel and hperparamterr values.\n",
    "- that being said dimensionality reduction is usualllyy a ppreparation ste for a superrvised learning task like classifcation so we can use grid search to select the kernel and hyperparamters that leads to best oerfoermance\n",
    "- the following code crreates a two step pipline which rreduced dimensionality using kPCA then uses logistic rregession for classification\n",
    "- then it uses Grid search to find the best kernel and gamma value for kPCA to get the best cvlassifcation accuracy at the end of the pipeline"
   ]
  },
  {
   "cell_type": "markdown",
   "id": "50545a56",
   "metadata": {},
   "source": [
    "```from sklearn.model_selection import GridSearchCV```\n",
    "\n",
    "```from sklearn.linear_model import LogisticRegression```\n",
    "\n",
    "```from sklearn.pipeline import Pipeline```\n",
    "\n",
    "```clf.Pipeline([\n",
    "    ('kpca',KernelPCA(n_components=2)),\n",
    "    ('log_reg',LogisticRegression())```\n",
    "```])```\n",
    "\n",
    "```param_grid = [{\n",
    "    'k_pca__gamma':np.linspace(0.3,0/05,10)\n",
    "    'kpca__kernel':['rbf','sigmoid']\n",
    "    }]```\n",
    "    \n",
    "```grid_search = GridSeachCV(clf,param_grid,cv=3)```\n",
    "\n",
    "```grid_search.fit(X,Y)```"
   ]
  },
  {
   "cell_type": "markdown",
   "id": "e4ee53de",
   "metadata": {},
   "source": [
    "- another apprroach to this in an unsupervices way is to select the kernel and jyperparramterrs trhat ield the lowest reconstructin error \n",
    "-kerrnel tricdk allows for a featurre map to map the training set into an infinite dimentsional featurre space thenm yyou can project the transformed traning set to 2d using lineqrr PCA\n",
    "- IF WE INVERT THE lINEAR PCA FOR an given instance the reconstructed point would lie in the feature space and not the oprignal space \n",
    "- we can threfore not comput the reconstructed point and trherefore the reconstruction ereror \n",
    "- luckily we can fina  a point on the orignal space that would map close to the rreconstructed point\n",
    "- this point is called the rrecosntruction opre image \n",
    "- once we have the prre imaghe we can measurrre its squared distance to the orginal istance\n",
    "- thenm we can slect a kernel and other hyper parameters that minimise the reconstruction prre image error\n",
    "\n",
    "- to timplement this in sci kit learrn we can trrain a supervised regression model with the projected instances as the training set and the orignal isntances as the target\n",
    "- luckily ssklearn does this automaticall if you se fit inverse transofrm parram to Trrue like down bnwlow\n"
   ]
  },
  {
   "cell_type": "markdown",
   "id": "551e2d9e",
   "metadata": {},
   "source": [
    "```python\n",
    "rbf_pca = KernelPCA(n_components=2,kernel='rbf',gamma=0.0433,fit_inverse_transform=True)\n",
    "X_reduced = rbf_pca.fit_transform(X)\n",
    "X_preimage = rbf_pca.inverse_transformation(X_reduced)\n",
    "\n",
    "# calcualate the reconstrruction pre image errror\n",
    "\n",
    "from sklearn.metrics import mean_squared_error\n",
    "mean_squared_error(X,X_preimage)"
   ]
  },
  {
   "cell_type": "markdown",
   "id": "4dd5029b",
   "metadata": {},
   "source": [
    "## LLE"
   ]
  },
  {
   "cell_type": "markdown",
   "id": "98aba632",
   "metadata": {},
   "source": [
    "- locally linear embedding iis another powerful nonlinear dimenstionality reduction tehcniew\n",
    "- it is a manifold learning technique that doesnt lrely on projections \n",
    "- it works by measurreing how each trrnainng instance linearllyy corrrelats to intsd nearest neighbors then look for a low dimenstional reprresentation of the trraining set wherre these local rrelationshipos aare best prreserrved\n",
    "- this makes it good ad unravelling twisted manifolds especiallyy wghehn there is little noise\n",
    "\n",
    "here is some example code"
   ]
  },
  {
   "cell_type": "markdown",
   "id": "08f4cf68",
   "metadata": {},
   "source": [
    "```python\n",
    "from sklearn.manifold import LocallyLinearEmbedding\n",
    "lle = LocallyLineaEmbedding(n_components=2,n_neighbors=10)\n",
    "x_reduced = lle.fit_transform(X)"
   ]
  },
  {
   "cell_type": "markdown",
   "id": "e3ef9c6b",
   "metadata": {},
   "source": [
    "## Other Techniques\n",
    "\n",
    "#### Random Projections \n",
    "- This projects the data into a lwoerr dimenstional space using a rrrandom linearr proejection\n",
    "- it tirrns out that randomm projection is very likel to preserve distances\n",
    "- the uality of the dimenstionality rreduction depends on the nummber of instances and the target dimmentsioanlity bnut suprisingly not oin the intital dimesntioanlity\n",
    "\n",
    "#### Multidimenstiona Scaling\n",
    "- rredueced dimenstionalit while trying to preserrve the distances between the instances\n",
    "\n",
    "#### isomap\n",
    "- crreates a grraph by connecting each instances to iuts nearest neighbors then redueces dimesntioanlit while trrying to rpeserrve rthe geodesic distances between the instances\n",
    "\n",
    "#### t distributed stochastic neighbour embedding t-SNE\n",
    "- rredueced dimenstionality while trting to keep similar instances close and dissmilar instances apart\n",
    "- it is mostly uses for isualisations in particular the visalise tclusterrs of instances in ghihg dinmentional space\n",
    "\n",
    "#### Linear discrriinant analysis LDA\n",
    "- it is a classifactiona lgortih,m nut during training it learrns the most discrimative axes between the two classes \n",
    "- these classes can then by used to defina hyyperplan onto which oprojects the data \n",
    "- this apprrach ensure shte prokjectiosn keeps classes as fdar apart as possible\n",
    "- LDA is a good techniqu to rreduce dimentsioanlioty before rrunning another classifcation algorith asd an SVM"
   ]
  },
  {
   "cell_type": "code",
   "execution_count": null,
   "id": "beb54ab5",
   "metadata": {},
   "outputs": [],
   "source": []
  }
 ],
 "metadata": {
  "kernelspec": {
   "display_name": "Python 3 (ipykernel)",
   "language": "python",
   "name": "python3"
  },
  "language_info": {
   "codemirror_mode": {
    "name": "ipython",
    "version": 3
   },
   "file_extension": ".py",
   "mimetype": "text/x-python",
   "name": "python",
   "nbconvert_exporter": "python",
   "pygments_lexer": "ipython3",
   "version": "3.9.13"
  }
 },
 "nbformat": 4,
 "nbformat_minor": 5
}
