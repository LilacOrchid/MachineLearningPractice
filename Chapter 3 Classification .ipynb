{
 "cells": [
  {
   "cell_type": "markdown",
   "id": "df659df0",
   "metadata": {},
   "source": [
    "## Classification"
   ]
  },
  {
   "cell_type": "markdown",
   "id": "05ddd774",
   "metadata": {},
   "source": [
    "### Import Modules"
   ]
  },
  {
   "cell_type": "code",
   "execution_count": 1,
   "id": "96b37492",
   "metadata": {},
   "outputs": [],
   "source": [
    "import matplotlib as mpl\n",
    "import matplotlib.pyplot as plt"
   ]
  },
  {
   "cell_type": "markdown",
   "id": "a1b074ee",
   "metadata": {},
   "source": [
    "### Fetch the MNIST data set"
   ]
  },
  {
   "cell_type": "code",
   "execution_count": 2,
   "id": "8a2ee1cb",
   "metadata": {},
   "outputs": [
    {
     "data": {
      "text/plain": [
       "dict_keys(['data', 'target', 'frame', 'categories', 'feature_names', 'target_names', 'DESCR', 'details', 'url'])"
      ]
     },
     "execution_count": 2,
     "metadata": {},
     "output_type": "execute_result"
    }
   ],
   "source": [
    "from sklearn.datasets import fetch_openml\n",
    "mnist = fetch_openml('mnist_784', version= 1, as_frame= False)\n",
    "mnist.keys()"
   ]
  },
  {
   "cell_type": "markdown",
   "id": "e24c53fe",
   "metadata": {},
   "source": [
    "#### Look at these arrays"
   ]
  },
  {
   "cell_type": "code",
   "execution_count": 3,
   "id": "d6164490",
   "metadata": {},
   "outputs": [
    {
     "data": {
      "text/plain": [
       "(70000, 784)"
      ]
     },
     "execution_count": 3,
     "metadata": {},
     "output_type": "execute_result"
    }
   ],
   "source": [
    "X,y = mnist['data'],mnist['target']\n",
    "X.shape"
   ]
  },
  {
   "cell_type": "code",
   "execution_count": 4,
   "id": "82746ed9",
   "metadata": {},
   "outputs": [
    {
     "data": {
      "text/plain": [
       "(70000,)"
      ]
     },
     "execution_count": 4,
     "metadata": {},
     "output_type": "execute_result"
    }
   ],
   "source": [
    "y.shape"
   ]
  },
  {
   "cell_type": "markdown",
   "id": "76138af9",
   "metadata": {},
   "source": [
    "#### These have 70000 images and each image has 784 features as there are 28x28 pixels\n",
    "#### Lets look at one digit from the data set"
   ]
  },
  {
   "cell_type": "code",
   "execution_count": 5,
   "id": "8b1b38e6",
   "metadata": {},
   "outputs": [
    {
     "data": {
      "text/plain": [
       "array([  0.,   0.,   0.,   0.,   0.,   0.,   0.,   0.,   0.,   0.,   0.,\n",
       "         0.,   0.,   0.,   0.,   0.,   0.,   0.,   0.,   0.,   0.,   0.,\n",
       "         0.,   0.,   0.,   0.,   0.,   0.,   0.,   0.,   0.,   0.,   0.,\n",
       "         0.,   0.,   0.,   0.,   0.,   0.,   0.,   0.,   0.,   0.,   0.,\n",
       "         0.,   0.,   0.,   0.,   0.,   0.,   0.,   0.,   0.,   0.,   0.,\n",
       "         0.,   0.,   0.,   0.,   0.,   0.,   0.,   0.,   0.,   0.,   0.,\n",
       "         0.,   0.,   0.,   0.,   0.,   0.,   0.,   0.,   0.,   0.,   0.,\n",
       "         0.,   0.,   0.,   0.,   0.,   0.,   0.,   0.,   0.,   0.,   0.,\n",
       "         0.,   0.,   0.,   0.,   0.,   0.,   0.,   0.,   0.,   0.,   0.,\n",
       "         0.,   0.,   0.,   0.,   0.,   0.,   0.,   0.,   0.,   0.,   0.,\n",
       "         0.,   0.,   0.,   0.,   0.,   0.,   0.,   0.,   0.,   0.,   0.,\n",
       "         0.,   0.,   0.,   0.,   0.,   0.,   0.,   0.,   0.,   0.,   0.,\n",
       "         0.,   0.,   0.,   0.,   0.,   0.,   0.,   0.,   0.,   0.,   0.,\n",
       "         0.,   0.,   0.,   0.,   0.,   0.,   0.,   0.,   0.,   3.,  18.,\n",
       "        18.,  18., 126., 136., 175.,  26., 166., 255., 247., 127.,   0.,\n",
       "         0.,   0.,   0.,   0.,   0.,   0.,   0.,   0.,   0.,   0.,   0.,\n",
       "        30.,  36.,  94., 154., 170., 253., 253., 253., 253., 253., 225.,\n",
       "       172., 253., 242., 195.,  64.,   0.,   0.,   0.,   0.,   0.,   0.,\n",
       "         0.,   0.,   0.,   0.,   0.,  49., 238., 253., 253., 253., 253.,\n",
       "       253., 253., 253., 253., 251.,  93.,  82.,  82.,  56.,  39.,   0.,\n",
       "         0.,   0.,   0.,   0.,   0.,   0.,   0.,   0.,   0.,   0.,   0.,\n",
       "        18., 219., 253., 253., 253., 253., 253., 198., 182., 247., 241.,\n",
       "         0.,   0.,   0.,   0.,   0.,   0.,   0.,   0.,   0.,   0.,   0.,\n",
       "         0.,   0.,   0.,   0.,   0.,   0.,   0.,  80., 156., 107., 253.,\n",
       "       253., 205.,  11.,   0.,  43., 154.,   0.,   0.,   0.,   0.,   0.,\n",
       "         0.,   0.,   0.,   0.,   0.,   0.,   0.,   0.,   0.,   0.,   0.,\n",
       "         0.,   0.,   0.,  14.,   1., 154., 253.,  90.,   0.,   0.,   0.,\n",
       "         0.,   0.,   0.,   0.,   0.,   0.,   0.,   0.,   0.,   0.,   0.,\n",
       "         0.,   0.,   0.,   0.,   0.,   0.,   0.,   0.,   0.,   0.,   0.,\n",
       "       139., 253., 190.,   2.,   0.,   0.,   0.,   0.,   0.,   0.,   0.,\n",
       "         0.,   0.,   0.,   0.,   0.,   0.,   0.,   0.,   0.,   0.,   0.,\n",
       "         0.,   0.,   0.,   0.,   0.,   0.,  11., 190., 253.,  70.,   0.,\n",
       "         0.,   0.,   0.,   0.,   0.,   0.,   0.,   0.,   0.,   0.,   0.,\n",
       "         0.,   0.,   0.,   0.,   0.,   0.,   0.,   0.,   0.,   0.,   0.,\n",
       "         0.,   0.,  35., 241., 225., 160., 108.,   1.,   0.,   0.,   0.,\n",
       "         0.,   0.,   0.,   0.,   0.,   0.,   0.,   0.,   0.,   0.,   0.,\n",
       "         0.,   0.,   0.,   0.,   0.,   0.,   0.,   0.,   0.,  81., 240.,\n",
       "       253., 253., 119.,  25.,   0.,   0.,   0.,   0.,   0.,   0.,   0.,\n",
       "         0.,   0.,   0.,   0.,   0.,   0.,   0.,   0.,   0.,   0.,   0.,\n",
       "         0.,   0.,   0.,   0.,   0.,  45., 186., 253., 253., 150.,  27.,\n",
       "         0.,   0.,   0.,   0.,   0.,   0.,   0.,   0.,   0.,   0.,   0.,\n",
       "         0.,   0.,   0.,   0.,   0.,   0.,   0.,   0.,   0.,   0.,   0.,\n",
       "         0.,  16.,  93., 252., 253., 187.,   0.,   0.,   0.,   0.,   0.,\n",
       "         0.,   0.,   0.,   0.,   0.,   0.,   0.,   0.,   0.,   0.,   0.,\n",
       "         0.,   0.,   0.,   0.,   0.,   0.,   0.,   0.,   0., 249., 253.,\n",
       "       249.,  64.,   0.,   0.,   0.,   0.,   0.,   0.,   0.,   0.,   0.,\n",
       "         0.,   0.,   0.,   0.,   0.,   0.,   0.,   0.,   0.,   0.,   0.,\n",
       "         0.,  46., 130., 183., 253., 253., 207.,   2.,   0.,   0.,   0.,\n",
       "         0.,   0.,   0.,   0.,   0.,   0.,   0.,   0.,   0.,   0.,   0.,\n",
       "         0.,   0.,   0.,   0.,   0.,  39., 148., 229., 253., 253., 253.,\n",
       "       250., 182.,   0.,   0.,   0.,   0.,   0.,   0.,   0.,   0.,   0.,\n",
       "         0.,   0.,   0.,   0.,   0.,   0.,   0.,   0.,   0.,  24., 114.,\n",
       "       221., 253., 253., 253., 253., 201.,  78.,   0.,   0.,   0.,   0.,\n",
       "         0.,   0.,   0.,   0.,   0.,   0.,   0.,   0.,   0.,   0.,   0.,\n",
       "         0.,   0.,  23.,  66., 213., 253., 253., 253., 253., 198.,  81.,\n",
       "         2.,   0.,   0.,   0.,   0.,   0.,   0.,   0.,   0.,   0.,   0.,\n",
       "         0.,   0.,   0.,   0.,   0.,   0.,  18., 171., 219., 253., 253.,\n",
       "       253., 253., 195.,  80.,   9.,   0.,   0.,   0.,   0.,   0.,   0.,\n",
       "         0.,   0.,   0.,   0.,   0.,   0.,   0.,   0.,   0.,   0.,  55.,\n",
       "       172., 226., 253., 253., 253., 253., 244., 133.,  11.,   0.,   0.,\n",
       "         0.,   0.,   0.,   0.,   0.,   0.,   0.,   0.,   0.,   0.,   0.,\n",
       "         0.,   0.,   0.,   0.,   0., 136., 253., 253., 253., 212., 135.,\n",
       "       132.,  16.,   0.,   0.,   0.,   0.,   0.,   0.,   0.,   0.,   0.,\n",
       "         0.,   0.,   0.,   0.,   0.,   0.,   0.,   0.,   0.,   0.,   0.,\n",
       "         0.,   0.,   0.,   0.,   0.,   0.,   0.,   0.,   0.,   0.,   0.,\n",
       "         0.,   0.,   0.,   0.,   0.,   0.,   0.,   0.,   0.,   0.,   0.,\n",
       "         0.,   0.,   0.,   0.,   0.,   0.,   0.,   0.,   0.,   0.,   0.,\n",
       "         0.,   0.,   0.,   0.,   0.,   0.,   0.,   0.,   0.,   0.,   0.,\n",
       "         0.,   0.,   0.,   0.,   0.,   0.,   0.,   0.,   0.,   0.,   0.,\n",
       "         0.,   0.,   0.,   0.,   0.,   0.,   0.,   0.,   0.,   0.,   0.,\n",
       "         0.,   0.,   0.,   0.,   0.,   0.,   0.,   0.,   0.,   0.,   0.,\n",
       "         0.,   0.,   0.])"
      ]
     },
     "execution_count": 5,
     "metadata": {},
     "output_type": "execute_result"
    }
   ],
   "source": [
    "somedigit = X[0]\n",
    "somedigitimage = somedigit.reshape(28,28) # turn the single dimesional array into a 28x28 like a picture\n",
    "somedigit"
   ]
  },
  {
   "cell_type": "markdown",
   "id": "558520ea",
   "metadata": {},
   "source": [
    "#### Each value of the some digit array is a value for the intensity oif the pixel, you can show this as a image using plt.imshow"
   ]
  },
  {
   "cell_type": "code",
   "execution_count": 6,
   "id": "49170489",
   "metadata": {},
   "outputs": [
    {
     "data": {
      "text/plain": [
       "<matplotlib.image.AxesImage at 0x1e08001f880>"
      ]
     },
     "execution_count": 6,
     "metadata": {},
     "output_type": "execute_result"
    },
    {
     "data": {
      "image/png": "[encoded data removed]",
      "text/plain": [
       "<Figure size 640x480 with 1 Axes>"
      ]
     },
     "metadata": {},
     "output_type": "display_data"
    }
   ],
   "source": [
    "plt.imshow(somedigitimage,cmap='binary')"
   ]
  },
  {
   "cell_type": "markdown",
   "id": "86492136",
   "metadata": {},
   "source": [
    "#### Binary is just the colour map being used, now lets check the label, remember X is the data for the pixels in 28x28 array and y is the label"
   ]
  },
  {
   "cell_type": "code",
   "execution_count": 7,
   "id": "d473d832",
   "metadata": {},
   "outputs": [
    {
     "data": {
      "text/plain": [
       "'5'"
      ]
     },
     "execution_count": 7,
     "metadata": {},
     "output_type": "execute_result"
    }
   ],
   "source": [
    "y[0]"
   ]
  },
  {
   "cell_type": "markdown",
   "id": "20a22384",
   "metadata": {},
   "source": [
    "#### Label come out as a string,need to cast to a number"
   ]
  },
  {
   "cell_type": "code",
   "execution_count": 8,
   "id": "ab5d6b30",
   "metadata": {},
   "outputs": [],
   "source": [
    "import numpy as np\n",
    "y = y.astype(np.uint8)"
   ]
  },
  {
   "cell_type": "markdown",
   "id": "0ff66bbd",
   "metadata": {},
   "source": [
    "#### Before doing anything with the data including inspecting it you have to split the data into a test set and a training set, however the MNIST data is conveniently aleady in one , first 60,000 is the training and the last 10,000 is the test"
   ]
  },
  {
   "cell_type": "code",
   "execution_count": 9,
   "id": "4b9d51af",
   "metadata": {},
   "outputs": [],
   "source": [
    "Xtrain,Xtest,ytrain,ytest = X[:60000],X[60000:],y[:60000],y[60000:]"
   ]
  },
  {
   "cell_type": "markdown",
   "id": "adac5b44",
   "metadata": {},
   "source": [
    "### Training a binary classifier \n",
    "#### A binary classifier can decide if it 'is' or 'not' e.g. 5 or not 5"
   ]
  },
  {
   "cell_type": "code",
   "execution_count": 10,
   "id": "15f1de44",
   "metadata": {},
   "outputs": [
    {
     "data": {
      "text/plain": [
       "array([ True, False, False, ...,  True, False, False])"
      ]
     },
     "execution_count": 10,
     "metadata": {},
     "output_type": "execute_result"
    }
   ],
   "source": [
    "ytrain5 = (ytrain == 5) # True for all 5s and false for all other digits\n",
    "ytrain5"
   ]
  },
  {
   "cell_type": "code",
   "execution_count": 11,
   "id": "fd0eafe6",
   "metadata": {},
   "outputs": [
    {
     "data": {
      "text/plain": [
       "array([False, False, False, ..., False,  True, False])"
      ]
     },
     "execution_count": 11,
     "metadata": {},
     "output_type": "execute_result"
    }
   ],
   "source": [
    "ytest5 = (ytest == 5)\n",
    "ytest5"
   ]
  },
  {
   "cell_type": "markdown",
   "id": "606db15d",
   "metadata": {},
   "source": [
    "### Now lets pick a classifier and train it \n",
    "Use the Stochastic Gradient Descent SGD classifer , it can handle large data sets effectiently as it deals with triaininng instances one at a time . lets create it then train it "
   ]
  },
  {
   "cell_type": "code",
   "execution_count": 12,
   "id": "86083db7",
   "metadata": {},
   "outputs": [
    {
     "data": {
      "text/plain": [
       "SGDClassifier(random_state=42)"
      ]
     },
     "execution_count": 12,
     "metadata": {},
     "output_type": "execute_result"
    }
   ],
   "source": [
    "from sklearn.linear_model import SGDClassifier\n",
    "sgd_clf = SGDClassifier(random_state = 42) #model\n",
    "sgd_clf.fit(Xtrain,ytrain5) # train it on binary of 5 "
   ]
  },
  {
   "cell_type": "markdown",
   "id": "632e4655",
   "metadata": {},
   "source": [
    "#### Now use it to predict images of the number 5 "
   ]
  },
  {
   "cell_type": "code",
   "execution_count": 13,
   "id": "6a19b4cf",
   "metadata": {},
   "outputs": [
    {
     "data": {
      "text/plain": [
       "<matplotlib.image.AxesImage at 0x1e0809998b0>"
      ]
     },
     "execution_count": 13,
     "metadata": {},
     "output_type": "execute_result"
    },
    {
     "data": {
      "image/png": "[encoded data removed]",
      "text/plain": [
       "<Figure size 640x480 with 1 Axes>"
      ]
     },
     "metadata": {},
     "output_type": "display_data"
    }
   ],
   "source": [
    "plt.imshow(somedigitimage,cmap='binary')"
   ]
  },
  {
   "cell_type": "code",
   "execution_count": 14,
   "id": "c05c0eab",
   "metadata": {},
   "outputs": [
    {
     "data": {
      "text/plain": [
       "array([ True])"
      ]
     },
     "execution_count": 14,
     "metadata": {},
     "output_type": "execute_result"
    }
   ],
   "source": [
    "sgd_clf.predict([somedigit])"
   ]
  },
  {
   "cell_type": "markdown",
   "id": "d8785f78",
   "metadata": {},
   "source": [
    "### Measuring accuracy using Cross Validation\n",
    "#### Cross validation splits the training data into different folds and used 1 fold for the testing and the rest for training then the method is repeated for all folds to come up with an average accuracy\n",
    "   \n",
    "   \n",
    "   "
   ]
  },
  {
   "cell_type": "code",
   "execution_count": 15,
   "id": "c85f8878",
   "metadata": {},
   "outputs": [
    {
     "data": {
      "text/plain": [
       "array([0.95035, 0.96035, 0.9604 ])"
      ]
     },
     "execution_count": 15,
     "metadata": {},
     "output_type": "execute_result"
    }
   ],
   "source": [
    "from sklearn.model_selection import cross_val_score\n",
    "cross_val_score(sgd_clf,Xtrain,ytrain5,cv=3,scoring = 'accuracy')"
   ]
  },
  {
   "cell_type": "markdown",
   "id": "21836b0c",
   "metadata": {},
   "source": [
    "#### Not all is as it seems , lets see how the dumb classifer that predicts every single image as a not 5 class would work and its accuracy"
   ]
  },
  {
   "cell_type": "code",
   "execution_count": 16,
   "id": "613995f8",
   "metadata": {},
   "outputs": [],
   "source": [
    "from sklearn.base import BaseEstimator\n",
    "class Never5Classifier(BaseEstimator):\n",
    "    def fit(self, X, y=None):\n",
    "        pass\n",
    "    \n",
    "    def predict(self, X):\n",
    "        return np.zeros(shape=(len(X), 1), dtype=bool)\n",
    "\n"
   ]
  },
  {
   "cell_type": "code",
   "execution_count": 17,
   "id": "f1ba8a0e",
   "metadata": {},
   "outputs": [
    {
     "data": {
      "text/plain": [
       "array([0.91125, 0.90855, 0.90915])"
      ]
     },
     "execution_count": 17,
     "metadata": {},
     "output_type": "execute_result"
    }
   ],
   "source": [
    "never_5_classifier = Never5Classifier()\n",
    "\n",
    "scores = cross_val_score(estimator=never_5_classifier, X=Xtrain, y=ytrain5, cv=3, scoring=\"accuracy\", n_jobs=-1)\n",
    "scores\n",
    "\n"
   ]
  },
  {
   "cell_type": "markdown",
   "id": "07459711",
   "metadata": {},
   "source": [
    "It has over 90% accuracy because 10% of the images are not 5 so if you gess not 5 each time you will be right 90% of the time"
   ]
  },
  {
   "cell_type": "markdown",
   "id": "b956811f",
   "metadata": {},
   "source": [
    "#### Accuracy is not the preferred proformance metric for classifiers especially when dealing iwht skewed data sets , when some classes are much more frequwent than others.\n",
    "#### A better way to evaluate the proformance of a classifier is to use a confusion matrix\n",
    "need to have a set of predictions so they can be compared to actual targets, use cross val predivt function"
   ]
  },
  {
   "cell_type": "code",
   "execution_count": 18,
   "id": "69603680",
   "metadata": {},
   "outputs": [],
   "source": [
    "from sklearn.model_selection import cross_val_predict\n",
    "\n",
    "y_train_pred = cross_val_predict(sgd_clf,Xtrain,ytrain5,cv=3)"
   ]
  },
  {
   "cell_type": "markdown",
   "id": "e3552e5b",
   "metadata": {},
   "source": [
    "What is does it that instead of returning the evalutaion scores it returns the predictions made of each test fold , so you get a 'clean' prediction for each instance in the training set as the model never saw the data during the training"
   ]
  },
  {
   "cell_type": "markdown",
   "id": "5cc83773",
   "metadata": {},
   "source": [
    "### now you can get the confusion matrix"
   ]
  },
  {
   "cell_type": "code",
   "execution_count": 19,
   "id": "75210f44",
   "metadata": {},
   "outputs": [
    {
     "data": {
      "text/plain": [
       "array([[53892,   687],\n",
       "       [ 1891,  3530]], dtype=int64)"
      ]
     },
     "execution_count": 19,
     "metadata": {},
     "output_type": "execute_result"
    }
   ],
   "source": [
    "from sklearn.metrics import confusion_matrix\n",
    "confusion_matrix(ytrain5,y_train_pred)"
   ]
  },
  {
   "cell_type": "markdown",
   "id": "c9d1771e",
   "metadata": {},
   "source": [
    "First row is the non 5 images the negative class . first column the true negative correct non 5s second is the false negatives incorrect non 5s so wrongly classofoed as 5s\n",
    "\n",
    "Second row is the images of 5s the postivide class , first column  is wrongly classified as non 5s false negatives and seconds is correct classifcations as non 5s so true positives\n",
    "\n"
   ]
  },
  {
   "cell_type": "markdown",
   "id": "feefdfd1",
   "metadata": {},
   "source": [
    "#### Sometimes you want a more concise metric, look at the accuracy of the possitive predictions called the precision "
   ]
  },
  {
   "cell_type": "markdown",
   "id": "570625a0",
   "metadata": {},
   "source": [
    "calculates by precision = TP/TP+FP  and use recall = TP/TP+FN  the ratio of positive instance"
   ]
  },
  {
   "cell_type": "code",
   "execution_count": 20,
   "id": "139e64f5",
   "metadata": {},
   "outputs": [
    {
     "data": {
      "text/plain": [
       "0.8370879772350012"
      ]
     },
     "execution_count": 20,
     "metadata": {},
     "output_type": "execute_result"
    }
   ],
   "source": [
    "from sklearn.metrics import precision_score,recall_score\n",
    "precision_score(ytrain5,y_train_pred)"
   ]
  },
  {
   "cell_type": "code",
   "execution_count": 21,
   "id": "4e4ff208",
   "metadata": {},
   "outputs": [
    {
     "data": {
      "text/plain": [
       "0.6511713705958311"
      ]
     },
     "execution_count": 21,
     "metadata": {},
     "output_type": "execute_result"
    }
   ],
   "source": [
    "recall_score(ytrain5,y_train_pred)"
   ]
  },
  {
   "cell_type": "markdown",
   "id": "3e25d9de",
   "metadata": {},
   "source": [
    "Recall is out of all the actual value for being positive  how many of the actual values where predictedd correctly as positive by the algo\n",
    "\n",
    "Specificity is out of all theactual value for being negative ie non 5s how many of them where corrrectly identified as being neghative\n",
    "\n",
    "Precision is out of all the positive predictions made by the algo how many were correct \n",
    "\n",
    "\n",
    "\n",
    "\n",
    "Hence the precision measures how accurate your positive predictions are, \n",
    "\n",
    "\n",
    "which percentage of actual positive samples was correctly classified"
   ]
  },
  {
   "cell_type": "markdown",
   "id": "e5f9377c",
   "metadata": {},
   "source": [
    "### F1 score is a metric that combines precision and recall , it is the harmonic mean of the precision and recall, harmonic mean gives much more weight to low values , compared to normal mean and the classifier wil only give a high F1 score if both precision nd recall are high"
   ]
  },
  {
   "cell_type": "markdown",
   "id": "9b83073b",
   "metadata": {},
   "source": [
    "The threshold is a value that determines whether to class one instance as a positive or negative , you can change this thresho9ld and get different values for the recall and precision.\n",
    "\n",
    "In scikit learn you cannot change the threshold nut you can use the decision scores that is used to make predictiosn\n",
    "\n",
    "call the decision function method that returns a score for each instance then you can change the value of this deciion score similar to changing the threshold"
   ]
  },
  {
   "cell_type": "code",
   "execution_count": 22,
   "id": "3aacb15c",
   "metadata": {},
   "outputs": [
    {
     "data": {
      "text/plain": [
       "array([2164.22030239])"
      ]
     },
     "execution_count": 22,
     "metadata": {},
     "output_type": "execute_result"
    }
   ],
   "source": [
    "yscore = sgd_clf.decision_function([somedigit])\n",
    "yscore # For the example the score is this"
   ]
  },
  {
   "cell_type": "code",
   "execution_count": 23,
   "id": "ea1341ef",
   "metadata": {},
   "outputs": [
    {
     "data": {
      "text/plain": [
       "array([ True])"
      ]
     },
     "execution_count": 23,
     "metadata": {},
     "output_type": "execute_result"
    }
   ],
   "source": [
    "threshold = 0 #new threshold for the decision function\n",
    "y_some_digit_pred = (yscore>threshold)  # \n",
    "y_some_digit_pred"
   ]
  },
  {
   "cell_type": "markdown",
   "id": "4fdf4b27",
   "metadata": {},
   "source": [
    "#### So what we haver done here is find the value of the decision score for that one example and changed the threshold to 0 and now we can see if the score is above this threshold you would get a true "
   ]
  },
  {
   "cell_type": "markdown",
   "id": "f8bc5bee",
   "metadata": {},
   "source": [
    "now lets raise the threshold then try again "
   ]
  },
  {
   "cell_type": "code",
   "execution_count": 24,
   "id": "891278cb",
   "metadata": {},
   "outputs": [
    {
     "data": {
      "text/plain": [
       "array([False])"
      ]
     },
     "execution_count": 24,
     "metadata": {},
     "output_type": "execute_result"
    }
   ],
   "source": [
    "threshold = 2165\n",
    "y_some_digit_pred = (yscore>threshold)  # \n",
    "y_some_digit_pred"
   ]
  },
  {
   "cell_type": "markdown",
   "id": "ac687f12",
   "metadata": {},
   "source": [
    "Now we get false prediction this means the recall has decrease ie the correct prediction of being a 5 out of the algos precitions has gone down"
   ]
  },
  {
   "cell_type": "markdown",
   "id": "c6f09c4c",
   "metadata": {},
   "source": [
    "#### How do we know what threshold to use?\n",
    "Use3 cross validation precition funtion buit this time puit a parameter that returns the decisionm scores and not the predictions\n",
    "\n",
    "What this function does is get the scores of all instance sin the training set like the example before"
   ]
  },
  {
   "cell_type": "code",
   "execution_count": 25,
   "id": "1feb0b11",
   "metadata": {},
   "outputs": [],
   "source": [
    "y_scores = cross_val_predict(sgd_clf,Xtrain,ytrain5,cv=3, method='decision_function')"
   ]
  },
  {
   "cell_type": "code",
   "execution_count": 26,
   "id": "c6b7aa15",
   "metadata": {},
   "outputs": [
    {
     "data": {
      "text/plain": [
       "array([  1200.93051237, -26883.79202424, -33072.03475406, ...,\n",
       "        13272.12718981,  -7258.47203373, -16877.50840447])"
      ]
     },
     "execution_count": 26,
     "metadata": {},
     "output_type": "execute_result"
    }
   ],
   "source": [
    "y_scores"
   ]
  },
  {
   "cell_type": "markdown",
   "id": "790eb96c",
   "metadata": {},
   "source": [
    "with all these decisionscores use precisionrecallcurveto compute a precision and recall for all possible thresholds"
   ]
  },
  {
   "cell_type": "code",
   "execution_count": 27,
   "id": "f0a77499",
   "metadata": {},
   "outputs": [],
   "source": [
    "from sklearn.metrics import precision_recall_curve\n",
    "\n",
    "precisions,recalls,thresholds = precision_recall_curve(ytrain5,y_scores)"
   ]
  },
  {
   "cell_type": "markdown",
   "id": "734abf00",
   "metadata": {},
   "source": [
    "Now plot in matplot lib"
   ]
  },
  {
   "cell_type": "code",
   "execution_count": 28,
   "id": "bb162358",
   "metadata": {},
   "outputs": [],
   "source": [
    "def plot_precision_recall_vs_threshold(precisions,recalls,thresholds):\n",
    "    plt.figure(figsize = (8,4.5))\n",
    "    plt.plot(thresholds,precisions[:-1],'b--',label='Precision')\n",
    "    plt.plot(thresholds,recalls[:-1],'g-',label='Recall')\n",
    "    plt.legend()\n",
    "    plt.title('Precision and Recall vs Threshold')\n",
    "    plt.xlabel('Threshold')\n",
    "    plt.ylabel('Precision and recall')\n",
    "    \n",
    "def plot_precision_vs_recall(precisions,recalls):\n",
    "    plt.figure(figsize = (8,4.5))\n",
    "    plt.plot(precisions,recalls)\n",
    "    plt.title('Precision vs Recall ')\n",
    "    plt.xlabel('Recall')\n",
    "    plt.ylabel('Precision ')\n",
    "    \n",
    "    "
   ]
  },
  {
   "cell_type": "code",
   "execution_count": 29,
   "id": "a3652c74",
   "metadata": {},
   "outputs": [
    {
     "data": {
      "image/png": "[encoded data removed]",
      "text/plain": [
       "<Figure size 800x450 with 1 Axes>"
      ]
     },
     "metadata": {},
     "output_type": "display_data"
    }
   ],
   "source": [
    "plot_precision_recall_vs_threshold(precisions,recalls,thresholds)"
   ]
  },
  {
   "cell_type": "markdown",
   "id": "50dcd185",
   "metadata": {},
   "source": [
    "Lets look at a precisiomn vs recall graph"
   ]
  },
  {
   "cell_type": "code",
   "execution_count": 30,
   "id": "e52a16e8",
   "metadata": {},
   "outputs": [
    {
     "data": {
      "image/png": "[encoded data removed]",
      "text/plain": [
       "<Figure size 800x450 with 1 Axes>"
      ]
     },
     "metadata": {},
     "output_type": "display_data"
    }
   ],
   "source": [
    "plot_precision_vs_recall(precisions,recalls)"
   ]
  },
  {
   "cell_type": "markdown",
   "id": "1718bb81",
   "metadata": {},
   "source": [
    "You can visible see the point where there  is a sharp downturn so you want to picka precisiion and recall tradeoiff right before that point aroutn 70% however this differs from project to project"
   ]
  },
  {
   "cell_type": "markdown",
   "id": "609bd49d",
   "metadata": {},
   "source": [
    "say you want a precision of 90 percent so you want the algortihm to correctly identify a 5 90 percent of the time , this would correspond to a a threshoold of around 8000 by looking at the threshold graph\n",
    "\n",
    "see its easy to have a high precision classifier but alas having this high precision is not useul if its recall is low\n"
   ]
  },
  {
   "cell_type": "markdown",
   "id": "e557dd12",
   "metadata": {},
   "source": [
    "#### ROC Curve"
   ]
  },
  {
   "cell_type": "markdown",
   "id": "37d28580",
   "metadata": {},
   "source": [
    "It is a ploit of the recall , true positive rate , against the False positive rate the ratio of negative instances classified as positive ( also calculates as 1 - truie postive rate or specificity)\n",
    "\n",
    "essentially sensitivity vs 1 - specificity\n",
    "\n",
    "to plot the roc curve use roc_curve function to comput the recall and the TNR the 1- specificity"
   ]
  },
  {
   "cell_type": "code",
   "execution_count": 31,
   "id": "9ba5633f",
   "metadata": {},
   "outputs": [],
   "source": [
    "from sklearn.metrics import roc_curve\n",
    "\n",
    "fpr,tpr,threshold = roc_curve(ytrain5,y_scores)\n"
   ]
  },
  {
   "cell_type": "markdown",
   "id": "244268a2",
   "metadata": {},
   "source": [
    "now you can plot the graph notice how in the graph the higher the recall the more false postives rate the classifier produces]"
   ]
  },
  {
   "cell_type": "code",
   "execution_count": 32,
   "id": "be9d3e29",
   "metadata": {},
   "outputs": [],
   "source": [
    "def plotroccurve(fpr,tpr,label=None):\n",
    "    plt.plot(fpr,tpr,linewidth=2,label=label)\n",
    "    plt.plot([0,1],[0,1],'k--')\n",
    "    plt.title('ROC Curve ')\n",
    "    plt.xlabel('Recall')\n",
    "    plt.ylabel('False positive rate ')\n",
    "    \n"
   ]
  },
  {
   "cell_type": "code",
   "execution_count": 33,
   "id": "44e49d8e",
   "metadata": {},
   "outputs": [
    {
     "data": {
      "image/png": "[encoded data removed]",
      "text/plain": [
       "<Figure size 640x480 with 1 Axes>"
      ]
     },
     "metadata": {},
     "output_type": "display_data"
    }
   ],
   "source": [
    "plotroccurve(fpr,tpr,label=None)"
   ]
  },
  {
   "cell_type": "markdown",
   "id": "1b915d58",
   "metadata": {},
   "source": [
    "A way to comapre classifiers is to do the area under the curvee, the dotted line represents the ROC of a purely random classifer soa good classfier stay as far aaway as posible from it in the top lefrt corner ,\n",
    "\n",
    "the area under the curve is the AUC and a perfect classifier will have a ROC AUC = 1 but a random one will have one =0.5"
   ]
  },
  {
   "cell_type": "markdown",
   "id": "381b3c6c",
   "metadata": {},
   "source": [
    "#### Calvculate the AUC"
   ]
  },
  {
   "cell_type": "code",
   "execution_count": 34,
   "id": "276ab06d",
   "metadata": {},
   "outputs": [
    {
     "data": {
      "text/plain": [
       "0.9604938554008616"
      ]
     },
     "execution_count": 34,
     "metadata": {},
     "output_type": "execute_result"
    }
   ],
   "source": [
    "from sklearn.metrics import roc_auc_score\n",
    "roc_auc_score(ytrain5,y_scores)\n"
   ]
  },
  {
   "cell_type": "markdown",
   "id": "430a3a39",
   "metadata": {},
   "source": [
    "So which curve do I use the ROC or the Precision Recall curve?\n",
    "use PR whenever the positive class is rare or when you care more about the false positives then the false negatives\n",
    "otherwise use the ROC curve  \n",
    "\n",
    "\n",
    "int his case the roc curve is not that good becuase there are only a few positives (5s) compared to negatives (non 5s)"
   ]
  },
  {
   "cell_type": "markdown",
   "id": "b2268c7e",
   "metadata": {},
   "source": [
    "### Trya a Random Forest Classifier and compare the ROC AND ROC AUC \n",
    "Random forest doesnt have a decisionm function method it onl;y has a predict proba metyhod, classifier usually have oine or the other or both.\n",
    "\n",
    "This type of classifier method retuirns an array , a row per instance and a column per class \n",
    "so 70000 rows and 2 colmnsu  5 or not 5 \n",
    "and returns the probability of the instance being in that class"
   ]
  },
  {
   "cell_type": "code",
   "execution_count": 35,
   "id": "f35f2fdc",
   "metadata": {},
   "outputs": [],
   "source": [
    "from sklearn.ensemble import RandomForestClassifier\n",
    "\n",
    "forest_clf = RandomForestClassifier(random_state = 42)\n",
    "y_probas_forest = cross_val_predict(forest_clf,Xtrain,ytrain5,cv=3,method='predict_proba')"
   ]
  },
  {
   "cell_type": "code",
   "execution_count": 36,
   "id": "72379415",
   "metadata": {},
   "outputs": [
    {
     "data": {
      "text/plain": [
       "array([[0.11, 0.89],\n",
       "       [0.99, 0.01],\n",
       "       [0.96, 0.04],\n",
       "       ...,\n",
       "       [0.02, 0.98],\n",
       "       [0.92, 0.08],\n",
       "       [0.94, 0.06]])"
      ]
     },
     "execution_count": 36,
     "metadata": {},
     "output_type": "execute_result"
    }
   ],
   "source": [
    "y_probas_forest"
   ]
  },
  {
   "cell_type": "markdown",
   "id": "ead99998",
   "metadata": {},
   "source": [
    "ROC curve functione xpects slabels and scores but instead of scores you can give it class probabilities , use the positiv e class probabilties as the score ie 5s "
   ]
  },
  {
   "cell_type": "code",
   "execution_count": 37,
   "id": "07a8aeb2",
   "metadata": {},
   "outputs": [],
   "source": [
    "y_scores_forest = y_probas_forest[:,1]\n",
    "fpr_forest,tpr_forest,thresholds_forest = roc_curve(ytrain5,y_scores_forest)"
   ]
  },
  {
   "cell_type": "markdown",
   "id": "a5bc2121",
   "metadata": {},
   "source": [
    "#### plot the ROC curve"
   ]
  },
  {
   "cell_type": "code",
   "execution_count": 38,
   "id": "6cf376b2",
   "metadata": {},
   "outputs": [
    {
     "data": {
      "image/png": "[encoded data removed]",
      "text/plain": [
       "<Figure size 640x480 with 1 Axes>"
      ]
     },
     "metadata": {},
     "output_type": "display_data"
    }
   ],
   "source": [
    "plt.plot(fpr,tpr,'b:',label='SGD')\n",
    "plotroccurve(fpr_forest,tpr_forest,label='Random Forest')\n",
    "plt.legend(loc='lower right')\n",
    "plt.show()\n"
   ]
  },
  {
   "cell_type": "markdown",
   "id": "c920309e",
   "metadata": {},
   "source": [
    "As you can see the random forest  is better as it is much closer to the top left corner, lets check the ROC AUC score"
   ]
  },
  {
   "cell_type": "code",
   "execution_count": 39,
   "id": "36fda3b4",
   "metadata": {},
   "outputs": [
    {
     "data": {
      "text/plain": [
       "0.9983436731328145"
      ]
     },
     "execution_count": 39,
     "metadata": {},
     "output_type": "execute_result"
    }
   ],
   "source": [
    "roc_auc_score(ytrain5,y_scores_forest)"
   ]
  },
  {
   "cell_type": "markdown",
   "id": "735a36e9",
   "metadata": {},
   "source": [
    "#### From the two models tested the Random FOrest Model is the preferred model"
   ]
  },
  {
   "cell_type": "markdown",
   "id": "61cb2fdb",
   "metadata": {},
   "source": [
    "## Multiclass Classification"
   ]
  },
  {
   "cell_type": "markdown",
   "id": "14a299cc",
   "metadata": {},
   "source": [
    "Some classifiers such as logistic regression , random foresst etcv can natively handle multiplke classes,  but some like SGD and SVM are binary classifiers however there are strategies to use them to rpoform multi class classification with mulltiple binary classifiers"
   ]
  },
  {
   "cell_type": "markdown",
   "id": "7e156259",
   "metadata": {},
   "source": [
    "One way to do this si to use  one versus the rest stretegy OVR you seperate images into 10 classes 1-9  then when you want to classify the images youu get the decision score for each class and choose whichever ione gets the highest score\n",
    "\n",
    "or use one versus one where you train a binary classifier for every pair of digits one to distuinguish 0s and 1s ,0s and 2s, 1s and 2s etc then when you want to classify the image you get the decisionm score so if there are N classes you need NX(N-1)/2 classifiers  and see which class wins the most duels , advantage of OVO is that each classifier only need to be trained on the part of the training tset for the two classees that it must distuinguish\n",
    "\n",
    "Algos that scale poorlyu with the size of the training set prefer OvO becauase its faster to traon many clkassifiers on small training sets rather than few classifiers on many training sets .\n",
    "\n",
    "for most binary classiofocation OvR is preferred"
   ]
  },
  {
   "cell_type": "markdown",
   "id": "59a1e7cf",
   "metadata": {},
   "source": [
    "#### Scikit learn automatically picks OVO or OVR for the algorith used\n",
    "lets use support vector machine, scikitn learn uses OVO and does it automatically unde3r the hood"
   ]
  },
  {
   "cell_type": "code",
   "execution_count": 40,
   "id": "8da93031",
   "metadata": {},
   "outputs": [
    {
     "data": {
      "text/plain": [
       "SVC()"
      ]
     },
     "execution_count": 40,
     "metadata": {},
     "output_type": "execute_result"
    }
   ],
   "source": [
    "from sklearn.svm import SVC\n",
    "svm_clf = SVC()\n",
    "svm_clf.fit(Xtrain,ytrain)  #using ytrain which is not binary"
   ]
  },
  {
   "cell_type": "code",
   "execution_count": 41,
   "id": "872b1f88",
   "metadata": {},
   "outputs": [
    {
     "data": {
      "text/plain": [
       "array([5], dtype=uint8)"
      ]
     },
     "execution_count": 41,
     "metadata": {},
     "output_type": "execute_result"
    }
   ],
   "source": [
    "svm_clf.predict([somedigit])"
   ]
  },
  {
   "cell_type": "markdown",
   "id": "a101f017",
   "metadata": {},
   "source": [
    "if you now call the decison function it will display  10 scores for the score for likelyhood top be each digit and you can see clearly that 5 had the highest score"
   ]
  },
  {
   "cell_type": "code",
   "execution_count": 42,
   "id": "8bea1671",
   "metadata": {},
   "outputs": [
    {
     "data": {
      "text/plain": [
       "array([[ 1.72501977,  2.72809088,  7.2510018 ,  8.3076379 , -0.31087254,\n",
       "         9.3132482 ,  1.70975103,  2.76765202,  6.23049537,  4.84771048]])"
      ]
     },
     "execution_count": 42,
     "metadata": {},
     "output_type": "execute_result"
    }
   ],
   "source": [
    "somedigitscores = svm_clf.decision_function([somedigit])\n",
    "somedigitscores"
   ]
  },
  {
   "cell_type": "markdown",
   "id": "0f3ba24b",
   "metadata": {},
   "source": [
    "Wheen a classifier is trained the list of target classes are storesd in its classes attribute in order oifff value and you can call this to compare"
   ]
  },
  {
   "cell_type": "code",
   "execution_count": 43,
   "id": "8612e969",
   "metadata": {},
   "outputs": [
    {
     "data": {
      "text/plain": [
       "array([0, 1, 2, 3, 4, 5, 6, 7, 8, 9], dtype=uint8)"
      ]
     },
     "execution_count": 43,
     "metadata": {},
     "output_type": "execute_result"
    }
   ],
   "source": [
    "svm_clf.classes_"
   ]
  },
  {
   "cell_type": "markdown",
   "id": "823b2ec5",
   "metadata": {},
   "source": [
    "What if you want to force scikit learnt to use another classification like OvO or OvR\n",
    "do this:"
   ]
  },
  {
   "cell_type": "code",
   "execution_count": 44,
   "id": "92844906",
   "metadata": {},
   "outputs": [
    {
     "data": {
      "text/plain": [
       "array([5], dtype=uint8)"
      ]
     },
     "execution_count": 44,
     "metadata": {},
     "output_type": "execute_result"
    }
   ],
   "source": [
    "from sklearn.multiclass import OneVsRestClassifier\n",
    "ovr_clf = OneVsRestClassifier(SVC()) #turn SVC model into OVR VERSION\n",
    "ovr_clf.fit(Xtrain,ytrain)\n",
    "ovr_clf.predict([somedigit])"
   ]
  },
  {
   "cell_type": "markdown",
   "id": "ce1be453",
   "metadata": {},
   "source": [
    "### Do the same for SGD model\n",
    "This model uses OvR strategy under the hood, since 10 categrories 10 binary classes were trained "
   ]
  },
  {
   "cell_type": "code",
   "execution_count": 45,
   "id": "e8bebc41",
   "metadata": {},
   "outputs": [
    {
     "data": {
      "text/plain": [
       "SGDClassifier(random_state=42)"
      ]
     },
     "execution_count": 45,
     "metadata": {},
     "output_type": "execute_result"
    }
   ],
   "source": [
    "sgd_clf.fit(Xtrain,ytrain)\n"
   ]
  },
  {
   "cell_type": "code",
   "execution_count": 46,
   "id": "ae5ba5af",
   "metadata": {},
   "outputs": [
    {
     "data": {
      "text/plain": [
       "array([3], dtype=uint8)"
      ]
     },
     "execution_count": 46,
     "metadata": {},
     "output_type": "execute_result"
    }
   ],
   "source": [
    "sgd_clf.predict([somedigit])"
   ]
  },
  {
   "cell_type": "markdown",
   "id": "4adfa24c",
   "metadata": {},
   "source": [
    "Lets look at the decision function scores as before"
   ]
  },
  {
   "cell_type": "code",
   "execution_count": 47,
   "id": "059380fc",
   "metadata": {},
   "outputs": [
    {
     "data": {
      "text/plain": [
       "array([[-31893.03095419, -34419.69069632,  -9530.63950739,\n",
       "          1823.73154031, -22320.14822878,  -1385.80478895,\n",
       "        -26188.91070951, -16147.51323997,  -4604.35491274,\n",
       "        -12050.767298  ]])"
      ]
     },
     "execution_count": 47,
     "metadata": {},
     "output_type": "execute_result"
    }
   ],
   "source": [
    "sgd_clf.decision_function([somedigit])"
   ]
  },
  {
   "cell_type": "markdown",
   "id": "9b7aa4fc",
   "metadata": {},
   "source": [
    "### How do we evaluate these multiclass models ?"
   ]
  },
  {
   "cell_type": "markdown",
   "id": "3f5d87c8",
   "metadata": {},
   "source": [
    "You can use cross validation again"
   ]
  },
  {
   "cell_type": "code",
   "execution_count": 48,
   "id": "a8c22695",
   "metadata": {},
   "outputs": [
    {
     "data": {
      "text/plain": [
       "array([0.87365, 0.85835, 0.8689 ])"
      ]
     },
     "execution_count": 48,
     "metadata": {},
     "output_type": "execute_result"
    }
   ],
   "source": [
    "cross_val_score(sgd_clf,Xtrain,ytrain,cv=3,scoring = 'accuracy')"
   ]
  },
  {
   "cell_type": "markdown",
   "id": "50e0e79b",
   "metadata": {},
   "source": [
    "How  do we increase accuracy ? do some feature scaling\n",
    "the array of Xtrain values are simply ther pixel intensity fronm 0 to 255 so you can use a standard scalar method"
   ]
  },
  {
   "cell_type": "code",
   "execution_count": 49,
   "id": "846e2d5c",
   "metadata": {},
   "outputs": [
    {
     "data": {
      "text/plain": [
       "array([[0., 0., 0., ..., 0., 0., 0.],\n",
       "       [0., 0., 0., ..., 0., 0., 0.],\n",
       "       [0., 0., 0., ..., 0., 0., 0.],\n",
       "       ...,\n",
       "       [0., 0., 0., ..., 0., 0., 0.],\n",
       "       [0., 0., 0., ..., 0., 0., 0.],\n",
       "       [0., 0., 0., ..., 0., 0., 0.]])"
      ]
     },
     "execution_count": 49,
     "metadata": {},
     "output_type": "execute_result"
    }
   ],
   "source": [
    "Xtrain"
   ]
  },
  {
   "cell_type": "code",
   "execution_count": 50,
   "id": "dc1223dc",
   "metadata": {},
   "outputs": [
    {
     "data": {
      "text/plain": [
       "array([0.8983, 0.891 , 0.9018])"
      ]
     },
     "execution_count": 50,
     "metadata": {},
     "output_type": "execute_result"
    }
   ],
   "source": [
    "from sklearn.preprocessing import StandardScaler\n",
    "scalar = StandardScaler()\n",
    "Xtrainscaled = scalar.fit_transform(Xtrain.astype(np.float64))\n",
    "cross_val_score(sgd_clf,Xtrainscaled,ytrain,cv=3,scoring='accuracy')"
   ]
  },
  {
   "cell_type": "markdown",
   "id": "96e1e5d8",
   "metadata": {},
   "source": [
    "As you can see feature scaling increases the accuracy"
   ]
  },
  {
   "cell_type": "markdown",
   "id": "dd5adccb",
   "metadata": {},
   "source": [
    "## Error Analysis"
   ]
  },
  {
   "cell_type": "markdown",
   "id": "17168ff1",
   "metadata": {},
   "source": [
    "Lets look at the confusion matrix , make predictions using cross val predict func them call the confusion matrix\n"
   ]
  },
  {
   "cell_type": "code",
   "execution_count": 51,
   "id": "5dfbd062",
   "metadata": {},
   "outputs": [
    {
     "data": {
      "text/plain": [
       "array([[5577,    0,   22,    5,    8,   43,   36,    6,  225,    1],\n",
       "       [   0, 6400,   37,   24,    4,   44,    4,    7,  212,   10],\n",
       "       [  27,   27, 5220,   92,   73,   27,   67,   36,  378,   11],\n",
       "       [  22,   17,  117, 5227,    2,  203,   27,   40,  403,   73],\n",
       "       [  12,   14,   41,    9, 5182,   12,   34,   27,  347,  164],\n",
       "       [  27,   15,   30,  168,   53, 4444,   75,   14,  535,   60],\n",
       "       [  30,   15,   42,    3,   44,   97, 5552,    3,  131,    1],\n",
       "       [  21,   10,   51,   30,   49,   12,    3, 5684,  195,  210],\n",
       "       [  17,   63,   48,   86,    3,  126,   25,   10, 5429,   44],\n",
       "       [  25,   18,   30,   64,  118,   36,    1,  179,  371, 5107]],\n",
       "      dtype=int64)"
      ]
     },
     "execution_count": 51,
     "metadata": {},
     "output_type": "execute_result"
    }
   ],
   "source": [
    "ytrainpred = cross_val_predict(sgd_clf,Xtrainscaled,ytrain,cv=3)\n",
    "conf_mx = confusion_matrix(ytrain,ytrainpred)\n",
    "conf_mx"
   ]
  },
  {
   "cell_type": "markdown",
   "id": "3a0684af",
   "metadata": {},
   "source": [
    "Plot on matplot lib"
   ]
  },
  {
   "cell_type": "code",
   "execution_count": 52,
   "id": "090575c1",
   "metadata": {},
   "outputs": [
    {
     "data": {
      "image/png": "[encoded data removed]",
      "text/plain": [
       "<Figure size 480x480 with 1 Axes>"
      ]
     },
     "metadata": {},
     "output_type": "display_data"
    }
   ],
   "source": [
    "plt.matshow(conf_mx,cmap=plt.cm.gray)\n",
    "plt.show()"
   ]
  },
  {
   "cell_type": "code",
   "execution_count": 53,
   "id": "89c8de1c",
   "metadata": {},
   "outputs": [
    {
     "data": {
      "text/plain": [
       "array([[5577,    0,   22,    5,    8,   43,   36,    6,  225,    1],\n",
       "       [   0, 6400,   37,   24,    4,   44,    4,    7,  212,   10],\n",
       "       [  27,   27, 5220,   92,   73,   27,   67,   36,  378,   11],\n",
       "       [  22,   17,  117, 5227,    2,  203,   27,   40,  403,   73],\n",
       "       [  12,   14,   41,    9, 5182,   12,   34,   27,  347,  164],\n",
       "       [  27,   15,   30,  168,   53, 4444,   75,   14,  535,   60],\n",
       "       [  30,   15,   42,    3,   44,   97, 5552,    3,  131,    1],\n",
       "       [  21,   10,   51,   30,   49,   12,    3, 5684,  195,  210],\n",
       "       [  17,   63,   48,   86,    3,  126,   25,   10, 5429,   44],\n",
       "       [  25,   18,   30,   64,  118,   36,    1,  179,  371, 5107]],\n",
       "      dtype=int64)"
      ]
     },
     "execution_count": 53,
     "metadata": {},
     "output_type": "execute_result"
    }
   ],
   "source": [
    "conf_mx"
   ]
  },
  {
   "cell_type": "markdown",
   "id": "6ca6cb29",
   "metadata": {},
   "source": [
    "Since the main diagonals are bright you could say they were classified correctly,  the 5s look darker than the rest so thnic could mean the classifier does not proform as well on the 5s , time to verify this:"
   ]
  },
  {
   "cell_type": "markdown",
   "id": "fd57a41b",
   "metadata": {},
   "source": [
    "To check the errors, the values not on the maion diagonal , you can divide each value in the matrix by the number of images in that class so you can compare the error rates and not the absolute error which would make classes with more error sue to more instances look bad"
   ]
  },
  {
   "cell_type": "code",
   "execution_count": 54,
   "id": "ba8ae199",
   "metadata": {},
   "outputs": [],
   "source": [
    "row_sums = conf_mx.sum(axis=1, keepdims = True) #the rows are the actual values not the algo predicts\n",
    "norm_conf_mx = conf_mx/row_sums"
   ]
  },
  {
   "cell_type": "markdown",
   "id": "98e1a0d2",
   "metadata": {},
   "source": [
    "Fill the diagonal with zeroes so only the erroras are in the matrix"
   ]
  },
  {
   "cell_type": "code",
   "execution_count": 55,
   "id": "815daa9e",
   "metadata": {},
   "outputs": [
    {
     "data": {
      "image/png": "[encoded data removed]",
      "text/plain": [
       "<Figure size 480x480 with 1 Axes>"
      ]
     },
     "metadata": {},
     "output_type": "display_data"
    }
   ],
   "source": [
    "np.fill_diagonal(norm_conf_mx,0)\n",
    "plt.matshow(norm_conf_mx,cmap=plt.cm.gray)\n",
    "plt.show()"
   ]
  },
  {
   "cell_type": "markdown",
   "id": "9120c67b",
   "metadata": {},
   "source": [
    "Now you can clearly see the errors that the algo makes ,the columns for the 8s are bright so many images are misclassifies as 8s but the row for 8s is dark so the number 8 doesnt get misclassified by the algorithm , youi can also see that threes and 5s get confused\n",
    "\n",
    "Analysing this plot mean you should focus your time in reducing the false 8s, maybe my increasing training data with images that look similar to 8s but are not so the algo can dfistuinguish\n",
    "\n",
    "yopu could also add new features such as number of closed loops or preoprocess the images to make closed loops stand out"
   ]
  },
  {
   "cell_type": "markdown",
   "id": "7246a052",
   "metadata": {},
   "source": [
    "### Multi label classification"
   ]
  },
  {
   "cell_type": "markdown",
   "id": "1a4d11b2",
   "metadata": {},
   "source": [
    "e.g. classifier shown pictures to recognise alice bob and bill if a picture come up with alice and bob the classifier will output [1,1,0] so an outpout of multiple binary tags is called a muiltilabel classifications system, lets look at a simple example"
   ]
  },
  {
   "cell_type": "code",
   "execution_count": 56,
   "id": "2988c059",
   "metadata": {},
   "outputs": [],
   "source": [
    "from sklearn.neighbors import KNeighborsClassifier\n",
    "ytrainlarge = (ytrain>=7)\n",
    "ytrainodd = (ytrain%2==1)\n",
    "y_multilabel = np.c_[ytrainlarge,ytrainodd] # joing the elements of both arrays next to eachother "
   ]
  },
  {
   "cell_type": "code",
   "execution_count": 57,
   "id": "741d31bf",
   "metadata": {},
   "outputs": [
    {
     "data": {
      "text/plain": [
       "array([False, False, False, ..., False, False,  True])"
      ]
     },
     "execution_count": 57,
     "metadata": {},
     "output_type": "execute_result"
    }
   ],
   "source": [
    "ytrainlarge"
   ]
  },
  {
   "cell_type": "code",
   "execution_count": 58,
   "id": "ca0afb88",
   "metadata": {},
   "outputs": [
    {
     "data": {
      "text/plain": [
       "array([ True, False, False, ...,  True, False, False])"
      ]
     },
     "execution_count": 58,
     "metadata": {},
     "output_type": "execute_result"
    }
   ],
   "source": [
    "ytrainodd"
   ]
  },
  {
   "cell_type": "code",
   "execution_count": 59,
   "id": "5ca6fe5a",
   "metadata": {},
   "outputs": [
    {
     "data": {
      "text/plain": [
       "array([[False,  True],\n",
       "       [False, False],\n",
       "       [False, False],\n",
       "       ...,\n",
       "       [False,  True],\n",
       "       [False, False],\n",
       "       [ True, False]])"
      ]
     },
     "execution_count": 59,
     "metadata": {},
     "output_type": "execute_result"
    }
   ],
   "source": [
    "y_multilabel"
   ]
  },
  {
   "cell_type": "markdown",
   "id": "a03c8e21",
   "metadata": {},
   "source": [
    "Now we have labels for all digits showing if they are large and odd , this can be used to trian the model"
   ]
  },
  {
   "cell_type": "code",
   "execution_count": 61,
   "id": "49432818",
   "metadata": {},
   "outputs": [
    {
     "data": {
      "text/plain": [
       "KNeighborsClassifier()"
      ]
     },
     "execution_count": 61,
     "metadata": {},
     "output_type": "execute_result"
    }
   ],
   "source": [
    "knn_clf = KNeighborsClassifier()\n",
    "knn_clf.fit(Xtrain,y_multilabel)"
   ]
  },
  {
   "cell_type": "code",
   "execution_count": 66,
   "id": "14a91294",
   "metadata": {},
   "outputs": [
    {
     "data": {
      "text/plain": [
       "array([  0.,   0.,   0.,   0.,   0.,   0.,   0.,   0.,   0.,   0.,   0.,\n",
       "         0.,   0.,   0.,   0.,   0.,   0.,   0.,   0.,   0.,   0.,   0.,\n",
       "         0.,   0.,   0.,   0.,   0.,   0.,   0.,   0.,   0.,   0.,   0.,\n",
       "         0.,   0.,   0.,   0.,   0.,   0.,   0.,   0.,   0.,   0.,   0.,\n",
       "         0.,   0.,   0.,   0.,   0.,   0.,   0.,   0.,   0.,   0.,   0.,\n",
       "         0.,   0.,   0.,   0.,   0.,   0.,   0.,   0.,   0.,   0.,   0.,\n",
       "         0.,   0.,   0.,   0.,   0.,   0.,   0.,   0.,   0.,   0.,   0.,\n",
       "         0.,   0.,   0.,   0.,   0.,   0.,   0.,   0.,   0.,   0.,   0.,\n",
       "         0.,   0.,   0.,   0.,   0.,   0.,   0.,   0.,   0.,   0.,   0.,\n",
       "         0.,   0.,   0.,   0.,   0.,   0.,   0.,   0.,   0.,   0.,   0.,\n",
       "         0.,   0.,   0.,   0.,   0.,   0.,   0.,   0.,   0.,   0.,   0.,\n",
       "         0.,   0.,   0.,   0.,   0.,   0.,   0.,   0.,   0.,   0.,   0.,\n",
       "         0.,   0.,   0.,   0.,   0.,   0.,   0.,   0.,   0.,   0.,   0.,\n",
       "         0.,   0.,   0.,   0.,   0.,   0.,   0.,   0.,   0.,   3.,  18.,\n",
       "        18.,  18., 126., 136., 175.,  26., 166., 255., 247., 127.,   0.,\n",
       "         0.,   0.,   0.,   0.,   0.,   0.,   0.,   0.,   0.,   0.,   0.,\n",
       "        30.,  36.,  94., 154., 170., 253., 253., 253., 253., 253., 225.,\n",
       "       172., 253., 242., 195.,  64.,   0.,   0.,   0.,   0.,   0.,   0.,\n",
       "         0.,   0.,   0.,   0.,   0.,  49., 238., 253., 253., 253., 253.,\n",
       "       253., 253., 253., 253., 251.,  93.,  82.,  82.,  56.,  39.,   0.,\n",
       "         0.,   0.,   0.,   0.,   0.,   0.,   0.,   0.,   0.,   0.,   0.,\n",
       "        18., 219., 253., 253., 253., 253., 253., 198., 182., 247., 241.,\n",
       "         0.,   0.,   0.,   0.,   0.,   0.,   0.,   0.,   0.,   0.,   0.,\n",
       "         0.,   0.,   0.,   0.,   0.,   0.,   0.,  80., 156., 107., 253.,\n",
       "       253., 205.,  11.,   0.,  43., 154.,   0.,   0.,   0.,   0.,   0.,\n",
       "         0.,   0.,   0.,   0.,   0.,   0.,   0.,   0.,   0.,   0.,   0.,\n",
       "         0.,   0.,   0.,  14.,   1., 154., 253.,  90.,   0.,   0.,   0.,\n",
       "         0.,   0.,   0.,   0.,   0.,   0.,   0.,   0.,   0.,   0.,   0.,\n",
       "         0.,   0.,   0.,   0.,   0.,   0.,   0.,   0.,   0.,   0.,   0.,\n",
       "       139., 253., 190.,   2.,   0.,   0.,   0.,   0.,   0.,   0.,   0.,\n",
       "         0.,   0.,   0.,   0.,   0.,   0.,   0.,   0.,   0.,   0.,   0.,\n",
       "         0.,   0.,   0.,   0.,   0.,   0.,  11., 190., 253.,  70.,   0.,\n",
       "         0.,   0.,   0.,   0.,   0.,   0.,   0.,   0.,   0.,   0.,   0.,\n",
       "         0.,   0.,   0.,   0.,   0.,   0.,   0.,   0.,   0.,   0.,   0.,\n",
       "         0.,   0.,  35., 241., 225., 160., 108.,   1.,   0.,   0.,   0.,\n",
       "         0.,   0.,   0.,   0.,   0.,   0.,   0.,   0.,   0.,   0.,   0.,\n",
       "         0.,   0.,   0.,   0.,   0.,   0.,   0.,   0.,   0.,  81., 240.,\n",
       "       253., 253., 119.,  25.,   0.,   0.,   0.,   0.,   0.,   0.,   0.,\n",
       "         0.,   0.,   0.,   0.,   0.,   0.,   0.,   0.,   0.,   0.,   0.,\n",
       "         0.,   0.,   0.,   0.,   0.,  45., 186., 253., 253., 150.,  27.,\n",
       "         0.,   0.,   0.,   0.,   0.,   0.,   0.,   0.,   0.,   0.,   0.,\n",
       "         0.,   0.,   0.,   0.,   0.,   0.,   0.,   0.,   0.,   0.,   0.,\n",
       "         0.,  16.,  93., 252., 253., 187.,   0.,   0.,   0.,   0.,   0.,\n",
       "         0.,   0.,   0.,   0.,   0.,   0.,   0.,   0.,   0.,   0.,   0.,\n",
       "         0.,   0.,   0.,   0.,   0.,   0.,   0.,   0.,   0., 249., 253.,\n",
       "       249.,  64.,   0.,   0.,   0.,   0.,   0.,   0.,   0.,   0.,   0.,\n",
       "         0.,   0.,   0.,   0.,   0.,   0.,   0.,   0.,   0.,   0.,   0.,\n",
       "         0.,  46., 130., 183., 253., 253., 207.,   2.,   0.,   0.,   0.,\n",
       "         0.,   0.,   0.,   0.,   0.,   0.,   0.,   0.,   0.,   0.,   0.,\n",
       "         0.,   0.,   0.,   0.,   0.,  39., 148., 229., 253., 253., 253.,\n",
       "       250., 182.,   0.,   0.,   0.,   0.,   0.,   0.,   0.,   0.,   0.,\n",
       "         0.,   0.,   0.,   0.,   0.,   0.,   0.,   0.,   0.,  24., 114.,\n",
       "       221., 253., 253., 253., 253., 201.,  78.,   0.,   0.,   0.,   0.,\n",
       "         0.,   0.,   0.,   0.,   0.,   0.,   0.,   0.,   0.,   0.,   0.,\n",
       "         0.,   0.,  23.,  66., 213., 253., 253., 253., 253., 198.,  81.,\n",
       "         2.,   0.,   0.,   0.,   0.,   0.,   0.,   0.,   0.,   0.,   0.,\n",
       "         0.,   0.,   0.,   0.,   0.,   0.,  18., 171., 219., 253., 253.,\n",
       "       253., 253., 195.,  80.,   9.,   0.,   0.,   0.,   0.,   0.,   0.,\n",
       "         0.,   0.,   0.,   0.,   0.,   0.,   0.,   0.,   0.,   0.,  55.,\n",
       "       172., 226., 253., 253., 253., 253., 244., 133.,  11.,   0.,   0.,\n",
       "         0.,   0.,   0.,   0.,   0.,   0.,   0.,   0.,   0.,   0.,   0.,\n",
       "         0.,   0.,   0.,   0.,   0., 136., 253., 253., 253., 212., 135.,\n",
       "       132.,  16.,   0.,   0.,   0.,   0.,   0.,   0.,   0.,   0.,   0.,\n",
       "         0.,   0.,   0.,   0.,   0.,   0.,   0.,   0.,   0.,   0.,   0.,\n",
       "         0.,   0.,   0.,   0.,   0.,   0.,   0.,   0.,   0.,   0.,   0.,\n",
       "         0.,   0.,   0.,   0.,   0.,   0.,   0.,   0.,   0.,   0.,   0.,\n",
       "         0.,   0.,   0.,   0.,   0.,   0.,   0.,   0.,   0.,   0.,   0.,\n",
       "         0.,   0.,   0.,   0.,   0.,   0.,   0.,   0.,   0.,   0.,   0.,\n",
       "         0.,   0.,   0.,   0.,   0.,   0.,   0.,   0.,   0.,   0.,   0.,\n",
       "         0.,   0.,   0.,   0.,   0.,   0.,   0.,   0.,   0.,   0.,   0.,\n",
       "         0.,   0.,   0.,   0.,   0.,   0.,   0.,   0.,   0.,   0.,   0.,\n",
       "         0.,   0.,   0.])"
      ]
     },
     "execution_count": 66,
     "metadata": {},
     "output_type": "execute_result"
    }
   ],
   "source": [
    "somedigit"
   ]
  },
  {
   "cell_type": "code",
   "execution_count": 67,
   "id": "7ec4bd7d",
   "metadata": {},
   "outputs": [
    {
     "name": "stderr",
     "output_type": "stream",
     "text": [
      "C:\\Users\\vinp2\\anaconda3\\lib\\site-packages\\sklearn\\neighbors\\_classification.py:228: FutureWarning: Unlike other reduction functions (e.g. `skew`, `kurtosis`), the default behavior of `mode` typically preserves the axis it acts along. In SciPy 1.11.0, this behavior will change: the default value of `keepdims` will become False, the `axis` over which the statistic is taken will be eliminated, and the value None will no longer be accepted. Set `keepdims` to True or False to avoid this warning.\n",
      "  mode, _ = stats.mode(_y[neigh_ind, k], axis=1)\n"
     ]
    },
    {
     "data": {
      "text/plain": [
       "array([[False,  True]])"
      ]
     },
     "execution_count": 67,
     "metadata": {},
     "output_type": "execute_result"
    }
   ],
   "source": [
    "knn_clf.predict([somedigit])"
   ]
  },
  {
   "cell_type": "markdown",
   "id": "bdbf5bf7",
   "metadata": {},
   "source": [
    "This shows that the nuumber 5 is not large and it is odd"
   ]
  },
  {
   "cell_type": "markdown",
   "id": "eb20d9ea",
   "metadata": {},
   "source": [
    "#### How to evaluate a multilaberl classifier\n",
    "one method is to measure the F1 score for each individual label then compute the average score"
   ]
  },
  {
   "cell_type": "code",
   "execution_count": 77,
   "id": "50e58445",
   "metadata": {},
   "outputs": [
    {
     "name": "stderr",
     "output_type": "stream",
     "text": [
      "C:\\Users\\vinp2\\anaconda3\\lib\\site-packages\\sklearn\\neighbors\\_classification.py:228: FutureWarning: Unlike other reduction functions (e.g. `skew`, `kurtosis`), the default behavior of `mode` typically preserves the axis it acts along. In SciPy 1.11.0, this behavior will change: the default value of `keepdims` will become False, the `axis` over which the statistic is taken will be eliminated, and the value None will no longer be accepted. Set `keepdims` to True or False to avoid this warning.\n",
      "  mode, _ = stats.mode(_y[neigh_ind, k], axis=1)\n",
      "C:\\Users\\vinp2\\anaconda3\\lib\\site-packages\\sklearn\\neighbors\\_classification.py:228: FutureWarning: Unlike other reduction functions (e.g. `skew`, `kurtosis`), the default behavior of `mode` typically preserves the axis it acts along. In SciPy 1.11.0, this behavior will change: the default value of `keepdims` will become False, the `axis` over which the statistic is taken will be eliminated, and the value None will no longer be accepted. Set `keepdims` to True or False to avoid this warning.\n",
      "  mode, _ = stats.mode(_y[neigh_ind, k], axis=1)\n",
      "C:\\Users\\vinp2\\anaconda3\\lib\\site-packages\\sklearn\\neighbors\\_classification.py:228: FutureWarning: Unlike other reduction functions (e.g. `skew`, `kurtosis`), the default behavior of `mode` typically preserves the axis it acts along. In SciPy 1.11.0, this behavior will change: the default value of `keepdims` will become False, the `axis` over which the statistic is taken will be eliminated, and the value None will no longer be accepted. Set `keepdims` to True or False to avoid this warning.\n",
      "  mode, _ = stats.mode(_y[neigh_ind, k], axis=1)\n"
     ]
    }
   ],
   "source": [
    "y_train_knn_pred = cross_val_predict(knn_clf, Xtrain, y_multilabel, cv=3)"
   ]
  },
  {
   "cell_type": "code",
   "execution_count": 78,
   "id": "b4c1509b",
   "metadata": {},
   "outputs": [
    {
     "data": {
      "text/plain": [
       "0.976410265560605"
      ]
     },
     "execution_count": 78,
     "metadata": {},
     "output_type": "execute_result"
    }
   ],
   "source": [
    "from sklearn.metrics import f1_score\n",
    "f1_score(y_multilabel, ytrainknnpredict, average=\"macro\")"
   ]
  },
  {
   "cell_type": "markdown",
   "id": "43482f6c",
   "metadata": {},
   "source": [
    "This assumes all labels are equally improtant , this is not the case if you have more pictures of alice than of bobn and bill you want to give mor4e weight to the classidier score on picture so alice to do this set average to weighted"
   ]
  },
  {
   "cell_type": "code",
   "execution_count": 79,
   "id": "802b0660",
   "metadata": {},
   "outputs": [
    {
     "data": {
      "text/plain": [
       "0.9778357403921755"
      ]
     },
     "execution_count": 79,
     "metadata": {},
     "output_type": "execute_result"
    }
   ],
   "source": [
    "f1_score(y_multilabel, ytrainknnpredict, average=\"weighted\")"
   ]
  }
 ],
 "metadata": {
  "kernelspec": {
   "display_name": "Python 3 (ipykernel)",
   "language": "python",
   "name": "python3"
  },
  "language_info": {
   "codemirror_mode": {
    "name": "ipython",
    "version": 3
   },
   "file_extension": ".py",
   "mimetype": "text/x-python",
   "name": "python",
   "nbconvert_exporter": "python",
   "pygments_lexer": "ipython3",
   "version": "3.9.13"
  }
 },
 "nbformat": 4,
 "nbformat_minor": 5
}
