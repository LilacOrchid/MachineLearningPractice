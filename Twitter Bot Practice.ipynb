{
 "cells": [
  {
   "cell_type": "markdown",
   "id": "9b1e843f",
   "metadata": {},
   "source": [
    "### Twitter Scraper Tweet and Time\n",
    "predict short-term movements based on crowd psychology."
   ]
  },
  {
   "cell_type": "code",
   "execution_count": 1,
   "id": "c0a07d99",
   "metadata": {},
   "outputs": [],
   "source": [
    "import selenium\n",
    "from selenium import webdriver\n",
    "from selenium.webdriver.chrome.service import Service  # Import Service\n",
    "from selenium.webdriver.common.by import By\n",
    "from selenium.webdriver.common.keys import Keys\n",
    "from selenium.common.exceptions import NoSuchElementException\n",
    "from time import sleep\n",
    "import getpass\n",
    "import numpy as np"
   ]
  },
  {
   "cell_type": "code",
   "execution_count": 2,
   "id": "05057f0a",
   "metadata": {},
   "outputs": [],
   "source": [
    "my_user = 'learner_bo81279'\n",
    "my_pass = 'm^_TkT\"z2MFp6X]'\n",
    "my_email = 'learnerbot86@gmail.com'\n",
    "search_item = 'Manga News'"
   ]
  },
  {
   "cell_type": "code",
   "execution_count": 3,
   "id": "c000f280",
   "metadata": {},
   "outputs": [],
   "source": [
    "# Define the path to the Chromedriver\n",
    "s = Service(r'C:\\Program Files\\drivers\\chromedriver.exe')\n",
    "\n",
    "# Initialize the Chrome WebDriver correctly using Service\n",
    "driver = webdriver.Chrome(service=s)\n",
    "# Open a web page\n",
    "driver.get('https://x.com/i/flow/login?lang=en')\n",
    "\n",
    "# Optional: Maximize the browser window if necessary\n",
    "# driver.maximize_window()  # Note the correct spelling is 'maximize_window', not 'maximise_window'\n",
    "\n",
    "# Wait for 3 seconds to allow the page to load\n",
    "sleep(3)"
   ]
  },
  {
   "cell_type": "code",
   "execution_count": 4,
   "id": "82addb7c",
   "metadata": {},
   "outputs": [],
   "source": [
    "#USERNAME INPUT\n",
    "user_id = driver.find_element(By.XPATH,\"//input[@type='text']\")\n",
    "user_id.send_keys(my_user) #to input send username\n",
    "user_id.send_keys(Keys.ENTER) #press enter "
   ]
  },
  {
   "cell_type": "code",
   "execution_count": 5,
   "id": "99d6d9c9",
   "metadata": {},
   "outputs": [],
   "source": [
    "#Password INPUT\n",
    "try:\n",
    "    sleep(3)\n",
    "    password = driver.find_element(By.XPATH,\"//input[@type='password']\")\n",
    "    password.send_keys(my_pass) #to input send username\n",
    "    password.send_keys(Keys.ENTER) #press enter \n",
    "    \n",
    "    \n",
    "except NoSuchElementException:\n",
    "    print('Password field not found, looking for email field...')\n",
    "    \n",
    "    try:\n",
    "        sleep(2)\n",
    "        email_id = driver.find_element(By.XPATH,\"//input[@data-testid='ocfEnterTextTextInput']\")\n",
    "        email_id.send_keys(my_email) #to input send username\n",
    "        email_id.send_keys(Keys.ENTER) #press enter \n",
    "        print('Email field found')\n",
    "        sleep(2)\n",
    "        password = driver.find_element(By.XPATH,\"//input[@type='password']\")\n",
    "        password.send_keys(my_pass) #to input send password\n",
    "        password.send_keys(Keys.ENTER) #press enter\n",
    "    \n",
    "    \n",
    "    except NoSuchElementException:\n",
    "        sleep(2)\n",
    "        # If no email field is found either, print this message\n",
    "        print('Email field not found.')"
   ]
  },
  {
   "cell_type": "code",
   "execution_count": 6,
   "id": "8aaf1bbb",
   "metadata": {},
   "outputs": [],
   "source": [
    "driver.maximize_window()\n",
    "sleep(6)\n",
    "search = driver.find_element(By.XPATH,\"//input[@type='text']\")\n",
    "search.send_keys(search_item)\n",
    "search.send_keys(Keys.ENTER)\n",
    "sleep(3)\n",
    "latest = driver.find_element(By.XPATH, \"//span[contains(@class, 'css-1jxf684') and text()='Latest']\")\n",
    "latest.click()"
   ]
  },
  {
   "cell_type": "code",
   "execution_count": 7,
   "id": "aebc700b",
   "metadata": {},
   "outputs": [],
   "source": [
    "all_tweets = []\n",
    "\n",
    "tweets = driver.find_elements(By.XPATH,\"//div[@data-testid='tweetText']\")\n",
    "times = driver.find_elements(By.XPATH,\"//time\")\n",
    "\n",
    "for _ in range(5):\n",
    "    for tweet,time in zip(tweets,times):\n",
    "        tweet_text = tweet.text\n",
    "        tweet_time = time.get_attribute('datetime')\n",
    "        \n",
    "        tweet_element = {'tweet':tweet_text,'time':tweet_time}\n",
    "        \n",
    "        #check if already in list\n",
    "        if [tweet_element['tweet'],tweet_element['time']] not in all_tweets:\n",
    "            all_tweets.append([tweet_element['tweet'],tweet_element['time']])\n",
    "    \n",
    "    sleep(3)\n",
    "    driver.execute_script('window.scrollTo(0,document.body.scrollHeight);')\n",
    "    sleep(3)\n",
    "    tweets = driver.find_elements(By.XPATH,\"//div[@data-testid='tweetText']\")\n",
    "    times = driver.find_elements(By.XPATH,\"//time\")\n",
    "    \n"
   ]
  },
  {
   "cell_type": "code",
   "execution_count": 11,
   "id": "ba3e38c4",
   "metadata": {},
   "outputs": [
    {
     "data": {
      "text/plain": [
       "['July 12th Manga Release:\\n[Kim Đồng]:\\n- Insomniacs After School 4\\n- Hoshin Engi 4\\n- Cardcaptor Sakura: Clear Card 12\\n\\n(1/2)',\n",
       " '2024-07-12T09:45:28.000Z']"
      ]
     },
     "execution_count": 11,
     "metadata": {},
     "output_type": "execute_result"
    }
   ],
   "source": [
    "all_tweets[1]"
   ]
  },
  {
   "cell_type": "code",
   "execution_count": null,
   "id": "7ca80c98",
   "metadata": {},
   "outputs": [],
   "source": []
  }
 ],
 "metadata": {
  "kernelspec": {
   "display_name": "Python 3 (ipykernel)",
   "language": "python",
   "name": "python3"
  },
  "language_info": {
   "codemirror_mode": {
    "name": "ipython",
    "version": 3
   },
   "file_extension": ".py",
   "mimetype": "text/x-python",
   "name": "python",
   "nbconvert_exporter": "python",
   "pygments_lexer": "ipython3",
   "version": "3.9.13"
  }
 },
 "nbformat": 4,
 "nbformat_minor": 5
}
