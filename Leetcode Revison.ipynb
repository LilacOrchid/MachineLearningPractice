{
 "cells": [
  {
   "cell_type": "markdown",
   "id": "c489d5a9",
   "metadata": {},
   "source": [
    "# Leetcode Solutions\n",
    "This code details my leetcode solutions which I use for revision"
   ]
  },
  {
   "cell_type": "markdown",
   "id": "ccbce915",
   "metadata": {},
   "source": [
    "## Two Pointer"
   ]
  },
  {
   "cell_type": "markdown",
   "id": "bf120dde",
   "metadata": {},
   "source": [
    "### 26. Remove duplicates sorted array"
   ]
  },
  {
   "cell_type": "code",
   "execution_count": 1,
   "id": "3a385a54",
   "metadata": {},
   "outputs": [],
   "source": [
    "class Solution(object):\n",
    "    def removeDuplicates(self, nums):\n",
    "        \"\"\"\n",
    "        :type nums: List[int]\n",
    "        :rtype: int\n",
    "        \"\"\"\n",
    "        l=1\n",
    "        for r in range(1,len(nums)):\n",
    "            if nums[r] != nums[r-1]:\n",
    "                nums[l] = nums[r]\n",
    "                l+=1\n",
    "\n",
    "        return l"
   ]
  },
  {
   "cell_type": "markdown",
   "id": "81ab60ce",
   "metadata": {},
   "source": [
    "### 27. Remove Element\n"
   ]
  },
  {
   "cell_type": "code",
   "execution_count": null,
   "id": "62687b7a",
   "metadata": {},
   "outputs": [],
   "source": [
    "class Solution(object):\n",
    "    def removeElement(self, nums, val):\n",
    "        \"\"\"\n",
    "        :type nums: List[int]\n",
    "        :type val: int\n",
    "        :rtype: int\n",
    "        \"\"\"\n",
    "        k = 0\n",
    "\n",
    "        for i in range(len(nums)):\n",
    "            if nums[i] != val:\n",
    "                nums[k] = nums[i]\n",
    "                k += 1 \n",
    "        return k"
   ]
  },
  {
   "cell_type": "markdown",
   "id": "48c099ad",
   "metadata": {},
   "source": [
    "### 28. Find the Index of the First Occurrence in a String\n"
   ]
  },
  {
   "cell_type": "code",
   "execution_count": 9,
   "id": "b7092e42",
   "metadata": {},
   "outputs": [],
   "source": [
    "class Solution(object):\n",
    "    def strStr(self, haystack, needle):\n",
    "        \"\"\"\n",
    "        :type haystack: str\n",
    "        :type needle: str\n",
    "        :rtype: int\n",
    "        \"\"\"\n",
    "        for i in range(len(haystack)+1-len(needle)):\n",
    "            for j in range(len(needle)):\n",
    "                if haystack[i+j] != needle[j]:\n",
    "                    break\n",
    "                if j ==len(needle) - 1:\n",
    "                    return i\n",
    "\n",
    "        return -1"
   ]
  },
  {
   "cell_type": "code",
   "execution_count": 10,
   "id": "50083143",
   "metadata": {},
   "outputs": [],
   "source": [
    "class Solution(object):\n",
    "    def strStr(self, haystack, needle):\n",
    "        \"\"\"\n",
    "        :type haystack: str\n",
    "        :type needle: str\n",
    "        :rtype: int\n",
    "        \"\"\"\n",
    "        for i in range(len(haystack)+1-len(needle)):\n",
    "            if haystack[i:i+len(needle)] == needle:\n",
    "                return i\n",
    "        return -1"
   ]
  },
  {
   "cell_type": "markdown",
   "id": "4bd4a3e5",
   "metadata": {},
   "source": [
    "### 88. Merge Sorted Array(revisit)\n"
   ]
  },
  {
   "cell_type": "code",
   "execution_count": 12,
   "id": "5388384c",
   "metadata": {},
   "outputs": [],
   "source": [
    "class Solution(object):\n",
    "    def merge(self, nums1, m, nums2, n):\n",
    "        \"\"\"\n",
    "        :type nums1: List[int]\n",
    "        :type m: int\n",
    "        :type nums2: List[int]\n",
    "        :type n: int\n",
    "        :rtype: None Do not return anything, modify nums1 in-place instead.\n",
    "        \"\"\"\n",
    "        # last index nums 1\n",
    "        last = m+n-1\n",
    "        #merg in reverse orfer\n",
    "        while m > 0 and n>0 :\n",
    "            if nums1[m-1]>nums2[n-1]:\n",
    "                nums1[last] = nums1[m-1]\n",
    "                m-=1\n",
    "            else:\n",
    "                nums1[last] = nums2[n-1]\n",
    "                n -=1\n",
    "            last -=1\n",
    "        #fill nums 1 with leftove elemtns\n",
    "        while n>0:\n",
    "            nums1[last] = nums2[n-1]\n",
    "            n,last = n-1,last-1\n"
   ]
  },
  {
   "cell_type": "code",
   "execution_count": null,
   "id": "b7fb22c7",
   "metadata": {},
   "outputs": [],
   "source": []
  }
 ],
 "metadata": {
  "kernelspec": {
   "display_name": "Python 3 (ipykernel)",
   "language": "python",
   "name": "python3"
  },
  "language_info": {
   "codemirror_mode": {
    "name": "ipython",
    "version": 3
   },
   "file_extension": ".py",
   "mimetype": "text/x-python",
   "name": "python",
   "nbconvert_exporter": "python",
   "pygments_lexer": "ipython3",
   "version": "3.9.13"
  }
 },
 "nbformat": 4,
 "nbformat_minor": 5
}
